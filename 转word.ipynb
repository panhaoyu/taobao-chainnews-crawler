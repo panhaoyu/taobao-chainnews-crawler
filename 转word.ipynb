{
 "cells": [
  {
   "cell_type": "code",
   "execution_count": 13,
   "id": "bca010ec-4fb5-474e-bc5f-b0a5c2cd8f90",
   "metadata": {},
   "outputs": [],
   "source": [
    "import pypandoc\n",
    "output = pypandoc.convert_file('demo.html', format='html', to='docx', outputfile='demo.docx')"
   ]
  },
  {
   "cell_type": "code",
   "execution_count": null,
   "id": "1a611ef6-966d-4b37-9771-5a10c2d0a3c7",
   "metadata": {},
   "outputs": [],
   "source": [
    "output."
   ]
  }
 ],
 "metadata": {
  "kernelspec": {
   "display_name": "Python 3 (ipykernel)",
   "language": "python",
   "name": "python3"
  },
  "language_info": {
   "codemirror_mode": {
    "name": "ipython",
    "version": 3
   },
   "file_extension": ".py",
   "mimetype": "text/x-python",
   "name": "python",
   "nbconvert_exporter": "python",
   "pygments_lexer": "ipython3",
   "version": "3.9.6"
  }
 },
 "nbformat": 4,
 "nbformat_minor": 5
}
