{
 "cells": [
  {
   "cell_type": "code",
   "execution_count": 1,
   "id": "d0b4f9a4-5131-4cc2-9aee-31e07f230973",
   "metadata": {},
   "outputs": [],
   "source": [
    "import pandas as pd"
   ]
  },
  {
   "cell_type": "code",
   "execution_count": 4,
   "id": "dc15f7af-761b-4c8b-9043-f9f03803ebd2",
   "metadata": {},
   "outputs": [],
   "source": [
    "df = pd.read_excel('chainnews-archive.xlsx')"
   ]
  },
  {
   "cell_type": "code",
   "execution_count": 6,
   "id": "cf483cca-d8ec-45e7-add7-241528de0d34",
   "metadata": {},
   "outputs": [
    {
     "data": {
      "text/plain": [
       "Index(['web-scraper-order', 'web-scraper-start-url', 'title-in-category-page',\n",
       "       'abstract-in-category-page', 'time-in-category-page', 'article-page',\n",
       "       'article-page-href', 'title', 'time', 'content'],\n",
       "      dtype='object')"
      ]
     },
     "execution_count": 6,
     "metadata": {},
     "output_type": "execute_result"
    }
   ],
   "source": [
    "df.columns"
   ]
  },
  {
   "cell_type": "code",
   "execution_count": 10,
   "id": "400db1dc-85c3-4d78-b0db-5eef51f5369e",
   "metadata": {},
   "outputs": [
    {
     "data": {
      "text/plain": [
       "['<p><a href=\"https://show.maoyan.com/qqw#/detail/138726?fromTag=myshare&amp;utm_source=myshare&amp;share=iOS\"><img loading=\"lazy\" src=\"https://img.chainnews.com/material/images/b53f4926eeebf7d2c6877a388d612c51.jpg-article\" alt=\"平均每天 1500 人猝死，如何预防突如其来的死亡？\">\\n</a></p>\\n<p><a href=\"https://none.h5.xeknow.com/st/62mTqshUe\"><img loading=\"lazy\" src=\"https://img.chainnews.com/material/images/1336d53bb417d364efcba1cb046966b3.jpg-article\" alt=\"平均每天 1500 人猝死，如何预防突如其来的死亡？\">\\n</a></p>\\n<p><strong>成为会员▲收听音频</strong></p>\\n<p>让吴晓波成为你全年的财商顾问</p>\\n<p><img loading=\"lazy\" src=\"https://img.chainnews.com/material/images/cd4eb6733ae44e4a00536d44dc4a26f5.jpg-article\" alt=\"平均每天 1500 人猝死，如何预防突如其来的死亡？\">\\n</p>\\n<p><img loading=\"lazy\" src=\"https://img.chainnews.com/material/images/2e3376ce773bf6f43657ca92d3ebdb1b.jpg-article\" alt=\"平均每天 1500 人猝死，如何预防突如其来的死亡？\">\\n<strong>_<strong><strong><strong>如果时代的洪流终将裹挟我们前进，愿你有一颗强大的心脏。</strong></strong></strong>_</strong></p>\\n<p>文 / 巴九灵（微信公众号：吴晓波频道）</p>\\n<p>昨天最让小巴头皮发麻的一条新闻，莫过于演员高以翔的死讯。<br>\\n有人可能还不认识他，这是一名高大帅气、身材优越的台湾男演员，平时热爱运动，看上去十分健康，刚过完 35 岁生日。如果不是意外走入娱乐圈，他原本可能会成为一名出色的篮球运动员。</p>\\n<p><img loading=\"lazy\" src=\"https://img.chainnews.com/material/images/f82db571434850c87ef8957786d30313.jpg-article\" alt=\"平均每天 1500 人猝死，如何预防突如其来的死亡？\">\\n</p>\\n<p>昨天凌晨，他短暂的人生被按下终止键。在录制某档以“展示嘉宾体能极限”为看点的户外综艺节目时，高以翔突然晕厥在地，心脏骤停，随后送往医院抢救无效死亡。<br>\\n医院宣布的死亡原因是“心源性猝死”。</p>\\n<p><strong>心源性猝死</strong></p>\\n<p>“心源性猝死”并不是一种特定的疾病，而是心脏原因导致的突然死亡。 一般来说，心脏猝死主要发生在明确有冠心病、心衰、心肌病或一些遗传性心脏病的人群中。 但也有一部分猝死的人，生前从未有过任何不适症状，比如长期缺乏锻炼（肥胖、高血压、高血糖）、长期熬夜、剧烈运动人群（运动员、马拉松选手）等，都是潜在的高猝死人群。<br>\\n有报道称，在倒下前，高以翔已连续工作 17 个小时。 连轴转的工作方式，身体机能全面下降的凌晨，冬天的户外，高强度的运动，急救设备的缺失……每一个看似无足轻重的因素，一起把这个年轻、健康的演员推向死亡的结局。<img loading=\"lazy\" src=\"https://img.chainnews.com/material/images/f4276f330cfe9ba746a5257141576cf6.jpg-article\" alt=\"平均每天 1500 人猝死，如何预防突如其来的死亡？\">\\n<br>\\n令人难受的是，高以翔的死亡并不是个例。**据国家心血管中心统计，我国每年心源性猝死者高达 55 万人，<strong>居全球之首</strong>。**平均每天，你身边就有 1500 人毫无征兆地失去生命。<br>\\n其中，90% 心脏骤停发生在医院外，抢救成功率仅为 1%。并且，心源性猝死者正在趋向年轻化，<strong>2017 年，有 43% 的猝死者为 18-39 岁的年轻人。</strong> 在 996 工作制盛行的当下，不仅是明星，各行各业的年轻人都无可避免地进入了拼精力时代。加班、熬夜、缺乏睡眠和运动，成为了大多数年轻人生活的常态，也让许多年轻的生命戛然而止。</p>\\n<p><img loading=\"lazy\" src=\"https://img.chainnews.com/material/images/4b98f261cba491868c0d139af2bd35a5.jpg-article\" alt=\"平均每天 1500 人猝死，如何预防突如其来的死亡？\">\\n</p>\\n<p>有没有方法能预防猝死？果壳科普作家 dede-lab 曾特意发微博解释：</p>\\n<blockquote>\\n<p>“猝死”80% 以上是心脏出了问题，但是很遗憾，真的没有什么体检项目能预防猝死的。尤其是年轻人发生猝死就更加突然，平时可能身体很好，体检都没有问题，也可能发生猝死。</p>\\n</blockquote>\\n<p>也就是说，面对“猝死”，我们能做且只能做两件事：1. 增强心肺功能；2. 远离影响心脏健康的生活方式。</p>\\n<p><img loading=\"lazy\" src=\"https://img.chainnews.com/material/images/5835305730df7769faa8494ec0e20391.jpg-article\" alt=\"平均每天 1500 人猝死，如何预防突如其来的死亡？\">\\n</p>\\n<p><strong>为什么很多人明明运动也会猝死？</strong> 保持运动锻炼，能够增强心肺功能，有效降低猝死的风险，这件事大多数人应该都知道。 《2019 新中产白皮书》显示，59% 的新中产给自己购置了健身卡、游泳卡，小巴身边也有很多同事，会挤出休息时间去晨跑或是夜跑。 不过也有很多人对此存在误解，他们认为只要运动了，就能防止猝死。 小巴要说的事实很残酷，<strong>许多猝死者恰恰是死于运动中途。</strong><br>\\n还比如去年，杭州一个 95 后小伙子在钱塘江边夜跑时，突然倒地，120 到场时，他已失去生命体征。<br>\\n事后，医生解释，猝死很重要的原因之一就是冠状动脉疾病，有些年轻人动脉里已经有了斑块，在高强度运动下斑块破裂了，就有可能引起猝死。<br>\\n因此，小巴要提醒以下两点，在你运动时请切记：</p>\\n<p>1</p>\\n<p><strong>运动要适度</strong><br>\\n你要根据自己的身体状况，选择合适的运动量，运动到全身舒适通畅的状态就好，在运动中途时千万不要突然加速或者加大强度，<strong>尤其是出现头晕、胸闷的现象时，应该停止运动，并及时就医。</strong></p>\\n<p><img loading=\"lazy\" src=\"https://img.chainnews.com/material/images/ac134eb6482da56eb9d49bd5731681f7.jpg-article\" alt=\"平均每天 1500 人猝死，如何预防突如其来的死亡？\">\\n</p>\\n<p>《贵圈-腾讯新闻》报道：高以翔倒下之前正在加速冲刺</p>\\n<p>对于一些平时不运动的人，突然进行高强度运动也容易适得其反。如果你不确定自己适合什么样的运动强度，可以参考这份美国运动医学会推荐的模板来，一个普通成年人最合适的运动量是：<br>\\n<strong>▷</strong>一次进行 30 到 40 分钟的中等强度运动（比如快步、慢跑等），或者是一次进行 20 到 30 分钟的较大强度运动（比如长跑、跳绳、打篮球等）。 <strong>▷</strong>可分多次累计完成，但每次运动时间不能低于 10 分钟。 <strong>▷</strong>每周运动至少 3-5 次。</p>\\n<p>2</p>\\n<p><strong>不要把运动当成任务</strong><br>\\n在任何情况下，请记住：<strong>运动是一种放松，不能当成一种任务。</strong> 前不久，小巴就在综艺节目里看到一个反面教材，演员张天爱在连续两三天拍戏不睡觉的情况下，还跑去健身，为了追赶之前落下的进度，她甚至加大了强度。 镜头里已经能明显看到她面色惨白，脚步虚浮，大量出汗。最后教练不得不喊停，并命令她赶紧回家睡觉。</p>\\n<p><img loading=\"lazy\" src=\"https://img.chainnews.com/material/images/a9582ad8693e28a217712e9972b9e68c.jpg-article\" alt=\"平均每天 1500 人猝死，如何预防突如其来的死亡？\">\\n</p>\\n<p>当我们的身体处于疲劳状态时，心脏和血流的压力都会加大，再剧烈运动只会雪上加霜，走向猝死的边缘。 运动永远无法代替睡眠。所以，如果你已经处于睡眠不足、身体疲劳的情况下，请立刻回家补觉，千万不要把运动当成必须完成的任务。</p>\\n<p><img loading=\"lazy\" src=\"https://img.chainnews.com/material/images/32b419a4978333887d9978bbad7a9f5b.jpg-article\" alt=\"平均每天 1500 人猝死，如何预防突如其来的死亡？\">\\n</p>\\n<p><strong>“久坐少动”也会增加猝死风险</strong> 除了加强心肺功能，我们还要远离不健康的生活方式，熬夜、缺觉、饮食不规律这些自然不用赘述，有则改之无则加勉。 今天小巴要说的是被大多数人忽略的一点，<strong>在办公室久坐少动，同样会影响心脏健康。</strong> 1953 年，伦敦的科学家们对公交车司机和售票员进行了长达 4 年的跟踪调查，最后发现，久坐不动的司机，比到处走动、服务乘客的售票员，猝死率高达一倍以上。<br>\\n后来科学家又对邮差和电话接线员，进行了相同的观察研究，同样印证了这个结果：<strong>“久坐少动”会增加冠心病以及心源性猝死的风险。</strong><br>\\n所以，看到这里的你，千万别再坐着了，赶紧起来放松一下你的身体。 如果一时之间无法摆脱“久坐少动”的习惯，试试下面的方法：</p>\\n<p>1</p>\\n<p><strong>用小杯子喝水</strong><br>\\n一方面，喝水可以防止血液过于黏稠；另一方面，用小杯子喝水，也能增加起身打水的次数。</p>\\n<p>2</p>\\n<p><strong>每坐一段时间站立活动一下</strong><br>\\n下载一个能够定时提醒的 APP，提醒自己，每坐半小时就站起来活动一下。</p>\\n<p>3</p>\\n<p><strong>站立办公</strong><br>\\n在 Facebook 的办公室里，就有不少站立式工作台，员工可以站着工作，累了再坐下休息，这样还能保护颈椎、腰椎。你也不妨试试？</p>\\n<p>4</p>\\n<p><strong>多步行</strong><br>\\n比如上班时，不坐电梯，多走楼梯；下班时提前一站下车，步行 15 分钟回家。</p>\\n<p>5</p>\\n<p><strong>健身操动起来</strong><br>\\n冬天太冷不想去健身房？来试试办公室健身操吧。</p>\\n<p>你可以每工作 2 小时或是结束一个工作任务时，就起来做一套有氧运动的体操，不仅能增强心肺功能，还能保持更加精神的状态。 小巴特意请健身教练东东演示了几个重要动作，无论是在工位上还是茶水间都能完成。这套动作幅度不大，却对于放松肌肉十分有效，你唯一需要用到的道具就是办公椅。</p>\\n<p><img loading=\"lazy\" src=\"https://img.chainnews.com/material/images/e6a32e38022305cb32a65a3aa7038811.jpg-article\" alt=\"平均每天 1500 人猝死，如何预防突如其来的死亡？\">\\n</p>\\n<p><strong>坐姿提踵</strong></p>\\n<p><img loading=\"lazy\" src=\"https://img.chainnews.com/material/images/c0292ce20a06b1aa3b8ebb04e632eb40.jpg-article\" alt=\"平均每天 1500 人猝死，如何预防突如其来的死亡？\">\\n</p>\\n<p>它能对小腿肌肉进行精细的打造。坐在办公椅上，脚趾着地，抬起脚后跟，保持这个姿势 2 秒钟，然后放下脚跟，一次完整的动作就完成了。这个动作需要做 3 组，每组 15 次。</p>\\n<p><img loading=\"lazy\" src=\"https://img.chainnews.com/material/images/e6a32e38022305cb32a65a3aa7038811.jpg-article\" alt=\"平均每天 1500 人猝死，如何预防突如其来的死亡？\">\\n</p>\\n<p><strong>椅式深蹲</strong></p>\\n<p><img loading=\"lazy\" src=\"https://img.chainnews.com/material/images/bb7976db29c1152cb94bb9bb238f0c65.jpg-article\" alt=\"平均每天 1500 人猝死，如何预防突如其来的死亡？\">\\n</p>\\n<p>在做稍微轻松点的工作时，你完全可以做这个动作。它类似于普通的深蹲动作，将臀部抬离办公椅 3 厘米，保持这个姿势 30-60 秒钟，一次动作就完成了。这个锻炼动作需要完成 3 组，每组 20 次。</p>\\n<p><img loading=\"lazy\" src=\"https://img.chainnews.com/material/images/e6a32e38022305cb32a65a3aa7038811.jpg-article\" alt=\"平均每天 1500 人猝死，如何预防突如其来的死亡？\">\\n</p>\\n<p><strong>肩胛回收</strong></p>\\n<p><img loading=\"lazy\" src=\"https://img.chainnews.com/material/images/a279505fda40f15bd5dcd95830d1d0c2.jpg-article\" alt=\"平均每天 1500 人猝死，如何预防突如其来的死亡？\">\\n</p>\\n<p>双手置于身体两侧，双脚平放于地面。通过吸气，轻轻将胸部肌肉往天花板方向提升，注意保持双眼平视，下巴与地面平行，双臂尽量向后回收靠拢，胸部可以感觉到拉伸的力量。同样保持 10 秒钟，然后放松，重复这个动作 5 到 10 次。</p>\\n<p><img loading=\"lazy\" src=\"https://img.chainnews.com/material/images/e6a32e38022305cb32a65a3aa7038811.jpg-article\" alt=\"平均每天 1500 人猝死，如何预防突如其来的死亡？\">\\n</p>\\n<p><strong>菱形运动</strong></p>\\n<p><img loading=\"lazy\" src=\"https://img.chainnews.com/material/images/c1297edc3ef3de7760efbec8d6d4d421.jpg-article\" alt=\"平均每天 1500 人猝死，如何预防突如其来的死亡？\">\\n</p>\\n<p>站直，双手放在身后扣牢，让肩胛肌肉最大限度靠近。保持 10 秒钟，放松，再重复做 5 到 10 次。</p>\\n<p><img loading=\"lazy\" src=\"https://img.chainnews.com/material/images/e6a32e38022305cb32a65a3aa7038811.jpg-article\" alt=\"平均每天 1500 人猝死，如何预防突如其来的死亡？\">\\n</p>\\n<p><strong>颈背及肩胛肌肉加强</strong></p>\\n<p>**<br>\\n**</p>\\n<p><img loading=\"lazy\" src=\"https://img.chainnews.com/material/images/7cd23da5b5a69b29c8aae81d525a1816.jpg-article\" alt=\"平均每天 1500 人猝死，如何预防突如其来的死亡？\">\\n</p>\\n<p>要加强这个“菱形”区域肌肉的力量，只需要用另一个姿势的肩胛回收运动即可实现。站直，一手扶住墙面，手肘向后收拢，肩部尽量靠近。保持 10 秒钟，放松后重复做 5 到 10 次。</p>\\n<p><img loading=\"lazy\" src=\"https://img.chainnews.com/material/images/e6a32e38022305cb32a65a3aa7038811.jpg-article\" alt=\"平均每天 1500 人猝死，如何预防突如其来的死亡？\">\\n</p>\\n<p><strong>墙角胸部拉伸</strong></p>\\n<p>**<br>\\n**</p>\\n<p><img loading=\"lazy\" src=\"https://img.chainnews.com/material/images/5438e4688ed7acbc7b24073857590fab.jpg-article\" alt=\"平均每天 1500 人猝死，如何预防突如其来的死亡？\">\\n</p>\\n<p>贴住墙面站立，双手向外打开与地面平行，拉伸胸部肌肉，保持 15 秒钟，或者更长时间，直至你感觉肌肉放松下来为止。<br>\\n<img loading=\"lazy\" src=\"https://img.chainnews.com/material/images/eca969c5b1b8bc59903c372715eea8a4.jpg-article\" alt=\"平均每天 1500 人猝死，如何预防突如其来的死亡？\">\\n<br>\\n我们曾写过很多职场文章，告诉大家如何把 PPT 做得更好、如何和领导沟通、如何发一封完美的邮件…… 但今天，小巴只想告诉屏幕前的你，<strong>以上任何事的前提，都在于你拥有一个健康的身体，以及一颗强大的心脏。</strong> 很多人也许没有意识到，我们常常会被要求“有较强的抗压能力”“能承受一定程度的加班”，其本质上就是要求我们有一颗强大的心脏，要求我们进化出足够强大的心肺功能，来适应这样残酷的生活节奏。 我没有底气劝你停下拼搏的步伐，但如果时代的洪流终将裹挟我们前进，愿你有一个健康的身体，愿你有一颗强大的心脏。</p>\\n<p><img loading=\"lazy\" src=\"https://img.chainnews.com/material/images/d2350ddbfc9393a89f20c904f64092b2.jpg-article\" alt=\"平均每天 1500 人猝死，如何预防突如其来的死亡？\">\\n</p>\\n<p>**本篇作者 |**F 君 **| 当值编辑 |**张文龙</p>\\n<p>责任编辑**| <strong>何梦飞</strong>| 主编 |**郑媛眉</p>\\n<p>3 位老师全面讲解人生必需的 7 张保单</p>\\n<p>提高风险抵抗力，为自己的人生保驾护航</p>\\n<p>下单还可免费获得 1 次保险咨询服务</p>\\n<p><img loading=\"lazy\" src=\"https://img.chainnews.com/material/images/146cb5e7be940cae83f52ea05a44fc59.jpg-article\" alt=\"平均每天 1500 人猝死，如何预防突如其来的死亡？\">\\n</p>\\n<p><a href=\"https://none.h5.xeknow.com/st/2UWp02g9r\"><img loading=\"lazy\" src=\"https://img.chainnews.com/material/images/e5ebe8ccb367b8ac1800ec2b43c69ec3.jpg-article\" alt=\"平均每天 1500 人猝死，如何预防突如其来的死亡？\">\\n</a></p>\\n<p><img loading=\"lazy\" src=\"https://img.chainnews.com/material/images/2af24fea6192bcfc53b2cd570ea3cb8d.jpg-article\" alt=\"平均每天 1500 人猝死，如何预防突如其来的死亡？\">\\n</p>\\n<p>来源链接：<a href=\"https://mp.weixin.qq.com/s?__biz=MzA3OTM5NTkxNA==&amp;mid=2652499375&amp;idx=1&amp;sn=ddb9249d7bc16dc716bf35970f2c0824&amp;chksm=8459608ab32ee99c1713e3344578778a7de2538ca6c80e202ce2c8d1b9f4b3a1ba06c5e93918&amp;scene=0&amp;xtrack=1\">mp.weixin.qq.com</a></p>',\n",
       " '<blockquote>\\n<p>在《经济学人》杂志中对区块链的定义：「区块链是信任的机器」。</p>\\n<p>区块链最大的核心创新在于去中心化的解决信任问题，不需要再去信任和依靠第三方机构的情况下进行价值转移。其中，智能合约起到了重要的作用。它是一套数字形式定义的合约，帮助合约参与方执行完成任务的协议，节省了时间和繁琐的步骤。</p>\\n</blockquote>\\n<p>但事实上，区块链无法主动获取现实世界的数据！</p>\\n<p>但是智能合约存在外部数据的交互需求。比如，一些像是股票或者币价的实时价格数据，天气预报，市场预测等其他数据。</p>\\n<p>那么，这里就引出了预言机（oracle）这样一个概念。</p>\\n<h3 id=\"什么是预言机\">什么是预言机？<a hidden=\"\" class=\"anchor\" aria-hidden=\"true\" href=\"#什么是预言机\">#</a></h3>\\n<p>预言机就是一种单向的数字代理，可以查找和验证真实世界的数据，并以加密的方式将信息提交给智能合约。预言机就好比区块链世界中的一个第三方数据代理商。</p>\\n<p><img loading=\"lazy\" src=\"https://img.chainnews.com/material/images/b93c01a7-6834-54d8-b21d-ae4c35e6f216.PNG\" alt=\"一文读懂去中心化预言机（Oracle）技术及生态\">\\n</p>\\n<p>举例来说，假设现实世界中的「数据源」和区块链中的「数据接口」，是两个使用不同语言的国家，预言机就是中间的翻译官。通过预言机智能合约就可以和链外数据进行无障碍交流。</p>\\n<p>在实际使用智能合约中，需要预言机对数据进行验证。\\ufeff因为区块链也是基于共识的系统，所运行的智能合约也要求一定要是确定性的程序。预言机对数据验证这一步骤是为了契合共识机制，使最后反馈给智能合约的数据也是「确定性」的。</p>\\n<p>预言机的运行原理：当区块链上的某个智能合约有数据交互需求时，预言机在接收到需求后，帮助智能合约在链外收集外界数据，验证后再将获取的数据反馈回链上的智能合约。</p>\\n<h3 id=\"区块链为什么需要预言机\">区块链为什么需要预言机？<a hidden=\"\" class=\"anchor\" aria-hidden=\"true\" href=\"#区块链为什么需要预言机\">#</a></h3>\\n<p>因为区块链上的智能合约和去中心化应用（Dapp）对外界数据拥有交互需求。</p>\\n<p>区块链是一个封闭的环境，链上是无法主动获取链外真实世界的数据。主要是因为区块链无法主动发起 Network call （网络调用）而链上智能合约是被动接收数据的。其次，智能合约其实并不「智能」，它只是在满足相应条件下，才达到触发状态的程序。同时，智能合约最终的执行需要合约参与方的私钥签署，智能合约本身没有办法自动执行。</p>\\n<p>当智能合约的触发条件取决于区块链外信息时，这些信息需先写入区块链内记录。此时需要通过预言机来提供这些区块链外的信息。</p>\\n<blockquote>\\n<p>先举一个通俗易懂的例子，假设现在我被关进了一个小黑屋里，我对外面的世界发生了什么几乎一无所知，不知道外面是否有人，即使呼叫也没有人回应，只有外面的人在门口告诉我，我才可以得知外面的改变。</p>\\n<p>智能合约就像这个例子中的「我」一样，它无论何时何地，都无法主动向外寻求信息，只能外部把消息或数据给到里面。而预言机就是这个在门口收到我的请求后，从外面输送消息和数据的人。</p>\\n</blockquote>\\n<p>或许你又会提出疑问为什么链上无法直接导入和接收数据？主要是因为区块链的共识机制。</p>\\n<p>区块链是基于共识的网络，所运行的智能合约也要求一定要是确定性的程序 , 每笔交易和区块处理过后，每个节点必须要达到相同的状态。但是数据本身具有复杂性和多样性，这也是为什么预言机为了契合区块链的共识机制，除了搜集数据还有一步数据验证的步骤才将最后的「确定性」信息反馈给智能合约。</p>\\n<h3 id=\"预言机应用场景有哪些\">预言机应用场景有哪些？<a hidden=\"\" class=\"anchor\" aria-hidden=\"true\" href=\"#预言机应用场景有哪些\">#</a></h3>\\n<p>目前预言机在区块链里涉及的应用领域有菠菜、稳定币、借贷、金融衍生品、保险以及预测市场。目前，比较热门的应用场景是菠菜、稳定币和借贷。</p>\\n<h4 id=\"1菠菜bócǎi\">1、菠菜（Bócǎi）<a hidden=\"\" class=\"anchor\" aria-hidden=\"true\" href=\"#1菠菜bócǎi\">#</a></h4>\\n<p>区块链内菠菜 Dapp 或者菠菜类游戏都涉及到随机数。菠菜类应用的核心是不可预测、可验证的随机数，随机数决定赌注的最终结果，但是在封闭状态的链上无法产生安全的随机数。</p>\\n<p><img loading=\"lazy\" src=\"https://img.chainnews.com/material/images/d9c5577b-5102-5872-867f-12561973f094.JPG\" alt=\"一文读懂去中心化预言机（Oracle）技术及生态\">\\n</p>\\n<p>现在的大多数菠菜游戏都是在链上生产随机数，所以很容易被预测和破解导致资产被盗。之前一些菠菜类应用因为随机数问题而遭受黑客攻击，比如 EOS 上面的掷色子游戏或者以太坊上的 FOMO3D。因为他们没有满足智能合约 /Dapp 场景下对安全伪随机数的要求：随机，不可预测。他们用到链上公开，被其他合约所调用，可以被预测的信息所生成的种子（seed）从而导致他们的随机数可以被预测。菠菜类游戏，要想得到安全的随机数，只有通过预言机从链外获取。</p>\\n<h4 id=\"2稳定币\">2、稳定币<a hidden=\"\" class=\"anchor\" aria-hidden=\"true\" href=\"#2稳定币\">#</a></h4>\\n<p>目前预言机主要服务于加密资产类稳定币。</p>\\n<p><img loading=\"lazy\" src=\"https://img.chainnews.com/material/images/643b79cd-b030-5c73-b939-adea8189de1b.JPG\" alt=\"一文读懂去中心化预言机（Oracle）技术及生态\">\\n</p>\\n<p>加密资产类稳定币是由加密货币抵押为基础。加密资产类稳定币不是保持一对一的比率，而是试图通过维持更高的抵押品与稳定币比来将其价格与法定货币挂钩。例如 DAI 和 bitUSD。DAI 通过超额抵押资产发行，其抵押物为以太坊等链上资产。</p>\\n<p>加密资产类稳定币有链外信息交互需求，需要预言机实时的去获取外部世界稳定货币本身和锚定资产的兑换率等数据。</p>\\n<h4 id=\"3借贷\">3、借贷<a hidden=\"\" class=\"anchor\" aria-hidden=\"true\" href=\"#3借贷\">#</a></h4>\\n<p>SALT Lending, ETHlend 等去中心化 P2P 借贷平台允许匿名的用户用区块链上的加密资产抵押，来借贷出法币或者加密资产。</p>\\n<p><img loading=\"lazy\" src=\"https://img.chainnews.com/material/images/3a8eea34-cc88-5e39-8f73-be11c4785cca.JPG\" alt=\"一文读懂去中心化预言机（Oracle）技术及生态\">\\n</p>\\n<p>这类应用需要使用预言机在贷款生成时提供价格数据， 并且能监控加密抵押物的保证金比率，在保证金不足的时候发出警告并触发清算程序。同时，借贷平台也能用 Oracle 来导入借款人的社交和信用和身份信息来确定不同的贷款利率。</p>\\n<h3 id=\"哪些团队正在开发预言机\">哪些团队正在开发预言机？<a hidden=\"\" class=\"anchor\" aria-hidden=\"true\" href=\"#哪些团队正在开发预言机\">#</a></h3>\\n<h4 id=\"1oraclize\">1、Oraclize：<a hidden=\"\" class=\"anchor\" aria-hidden=\"true\" href=\"#1oraclize\">#</a></h4>\\n<p>Oraclize 是一个为以太坊提供中心化数据传输预言机服务的项目，其依托亚马逊 AWS 服务和 TLSNotary 证明技术，提供预言机的服务。</p>\\n<p>在区块链环境下，Oraclize 把获取的信息返回链上且保证保证数据与数据源相同，用户可以自行抓取数据。Oraclize 不干涉信息源的选取和信息源本身的准确度。</p>\\n<h4 id=\"2augur\">2、Augur：<a hidden=\"\" class=\"anchor\" aria-hidden=\"true\" href=\"#2augur\">#</a></h4>\\n<p>不同于 Oracle 的中心化，Augur 是一个去中心化的预测市场平台。Augu 的核心是预测市场，主要是通过利益驱动的投票机制来确定结果。</p>\\n<p>用户可以用数字货币进行预测和下注，依靠群体智慧来预判事件的发展结果。用户可以选择围绕任何未来事件创建预测市场，参与者可以押注该事件的结果。参与者根据创建的未来事件的实际结果赢钱或者输钱。平台本身无法验证事件的真实结果是什么，因此 Augur 依靠用户和复杂的结果报告系统来鼓励诚实的结果报告行为。本身也可以作为其他应用的输入源，但是它们的输出结果需要很长时间的延迟和大量用户的参与。</p>\\n<h4 id=\"3chainlink\">3、Chainlink：<a hidden=\"\" class=\"anchor\" aria-hidden=\"true\" href=\"#3chainlink\">#</a></h4>\\n<p>Chainlink 是第一个去中心化的预言机。比起 Oraclize 的中心化，Chainlink 更符合区块链去中心化的准则。Chainlink 主要提供用于帮助智能合约访问关键链外资源、网站 API 和传统银行账户支付的预言机服务。</p>\\n<p>链下节点来提供数据，chainlink 的链上部分会收集数据请求的需求，然后收集合适的节点的回答，在加权得到结论后反馈给信息请求方。chainlink 也拥有一个对节点的信誉评价体系，信息需求方可以选择特定信誉级别的节点，每次信息反馈之后也会更新每个节点的信誉评分。</p>\\n<h4 id=\"4dos-network\">4、DOS Network<a hidden=\"\" class=\"anchor\" aria-hidden=\"true\" href=\"#4dos-network\">#</a></h4>\\n<p><img loading=\"lazy\" src=\"https://img.chainnews.com/material/images/6152663b-2bbc-5dd3-8614-59840b75aa5c.JPG\" alt=\"一文读懂去中心化预言机（Oracle）技术及生态\">\\n<br>\\nDOS Network 是一个提供去中心化的预言机服务的网络。它可以连接智能合约和链外互联网世界，同时也为区块链提供无限的且可验证的计算力。Dos Network 在链上监测用户数据请求，链下监控和接收数据请求，再通过链下随机选一组节点来提供数据，一旦收集来的数据通过组内 51% 节点共识被视为「正确答案」，最后链下再将获取的答案反馈给链上信息请求方。DOS 设立一个对于诚实节点的奖励机制：除了给节点的数据处理费，30% 总供应量的虚拟采矿奖励，持续十年。</p>\\n<p>DOS Network 在性能上可支持多条链，且数据结果接近实时，同时 DOS Network 分片的网络结构设计，可以并行处理请求，达到高性能和可扩展性。帮助扩展智能合约的处理能力和应用场景的二层（layer 2）网络解决方案。</p>\\n<p>DOS 与 Chainlink 类似，也有许多不同和优化。Chainlink 对每个节点返回的结果在区块链上进行聚合和共识，而 DOS 在链下对结果进行共识，性能和可扩展性更好。Chainlink 在 选取工作节点时基于信誉系统，而 DOS 则是完全随机的在去中心化网络中选取工作节点，有更好的抵御攻击的能力，安全性更好，也更公平。</p>\\n<h3 id=\"关于预言机的几个判断和思考\">关于预言机的几个判断和思考<a hidden=\"\" class=\"anchor\" aria-hidden=\"true\" href=\"#关于预言机的几个判断和思考\">#</a></h3>\\n<p>1、无论如何，预言机市场无法摆脱对于少数权威信息源的依赖，只是说尽可能的可以通过程序公正、事后追责、分布式容错的思路来尽量降低这种依赖。</p>\\n<p>2、目前各家预言机项目的解决方案各有利弊。</p>\\n<p>短期来看： Oraclize 虽然是中心化的项目，但具有很强的的应用性，用户可随机抓取自定义信息。Augur 对于预测市场方向也可以说是简单实用，但是涉及到人工投票，速度可能不快。</p>\\n<p>长期来看：Chainlink 和 DOS Network 这两种去中心化的预言机网络选取方案和多信息源对比的思路在架构上会更加安全可靠。</p>']"
      ]
     },
     "execution_count": 10,
     "metadata": {},
     "output_type": "execute_result"
    }
   ],
   "source": [
    "contents = [i for i in df['content']]\n",
    "contents[:2]"
   ]
  },
  {
   "cell_type": "code",
   "execution_count": 12,
   "id": "e4810604-6b19-4311-a6a2-003ad324e1cd",
   "metadata": {},
   "outputs": [
    {
     "data": {
      "text/plain": [
       "'<p><strong><img loading=\"lazy\" src=\"https://img.chainnews.com/material/images/f249308143f4cd73a03ac7a525b7c650.jpg-article\" alt=\"纽约州总检察长辞职，但加密货币交易所调查工作仍将继续\">\\n</strong></p>\\n<blockquote>\\n<p><strong>暴走时评</strong>：四名女子通过《纽约客》一篇文章指控纽约总检察长 Eric<br>\\nSchneiderman 对其施暴，Schneiderman 随即于本周一晚宣布辞职。而就在上月，总检察长办公室对 13 家加密货币交易所发起了实情调查，据媒体了解到，Schneiderman 的辞职并不会影响对加密货币交易所展开的调查。总检察长办公室的工作将一如既往的展开。</p>\\n</blockquote>\\n<p>翻译：<strong>Clover</strong></p>\\n<p>纽约州总检察长 Eric Schneiderman 本周一晚突然宣布辞职，但这似乎并未影响到检察长办公室对十几家加密货币交易所的调查。</p>\\n<p>CoinDesk 为此特别通过邮件向检察长办公室了解 Schneiderman 退出后，该办公室是否会继续对加密货币交易所开展调查。在邮件中，检察长办公室新闻秘书 Amy<br>\\nSpitalnick 写道：“办公室的工作将继续进行。”</p>\\n<p>上个月，纽约州检察长办公室对 13 家加密货币交易所发起了实情调查。这些交易所均收到了检察长办公室发出的详细问卷，其中包括有关其业务模式、运营、资金、交易协议、领导人及业务关系的问题。</p>\\n<p>《纽约客》（New Yorker）一篇文章发表不久后，Schneiderman 便突然宣布辞职，并将于周二营业日结束时生效。</p>\\n<p>在这篇报道中，4 名女子称 Schneiderman“反复在酗酒后对其施暴，而且暴力行为多发生在床上，Schneiderman 从来没有征得她们同意。”其中两名女子此前都曾与 Schneiderman 交往。</p>\\n<p>在宣布开展调查活动之后，CoinDesk 便与其中几家交易所取得了联系，大部分交易所都表示欢迎调查并赞赏了 Schneiderman 为提高行业透明度所作努力。</p>\\n<p>受影响的交易所之一 Coinbase 发布了一版对调查问卷所作答复，但由于其中包含机密信息，因此尚未公布全部答复。</p>\\n<p>然而，有一家交易所却拒绝配合总检察长办公室的调查。</p>\\n<p>Kraken 首席执行官 Jesse<br>\\nPowell 对 CoinDesk 表示：“2015 年 Kraken 因为美国纽约州的交易所准入许可机制 BitLicense 而退出了纽约州市场，现在这个决定终于发挥了作用。”其中交易所准入许可机制 BitLicense 是一项具有争议的许可框架。</p>\\n<p>来源链接：<a href=\"http://chainb.com/?P=Cont&amp;id=9049\">chainb.com</a></p>'"
      ]
     },
     "execution_count": 12,
     "metadata": {},
     "output_type": "execute_result"
    }
   ],
   "source": [
    "demo = contents[3]\n",
    "demo"
   ]
  },
  {
   "cell_type": "code",
   "execution_count": 13,
   "id": "7dcfdf50-9766-44f2-b85e-57cd71b3a05a",
   "metadata": {},
   "outputs": [
    {
     "name": "stdout",
     "output_type": "stream",
     "text": [
      "<p><strong><img loading=\"lazy\" src=\"https://img.chainnews.com/material/images/f249308143f4cd73a03ac7a525b7c650.jpg-article\" alt=\"纽约州总检察长辞职，但加密货币交易所调查工作仍将继续\">\n",
      "</strong></p>\n",
      "<blockquote>\n",
      "<p><strong>暴走时评</strong>：四名女子通过《纽约客》一篇文章指控纽约总检察长 Eric<br>\n",
      "Schneiderman 对其施暴，Schneiderman 随即于本周一晚宣布辞职。而就在上月，总检察长办公室对 13 家加密货币交易所发起了实情调查，据媒体了解到，Schneiderman 的辞职并不会影响对加密货币交易所展开的调查。总检察长办公室的工作将一如既往的展开。</p>\n",
      "</blockquote>\n",
      "<p>翻译：<strong>Clover</strong></p>\n",
      "<p>纽约州总检察长 Eric Schneiderman 本周一晚突然宣布辞职，但这似乎并未影响到检察长办公室对十几家加密货币交易所的调查。</p>\n",
      "<p>CoinDesk 为此特别通过邮件向检察长办公室了解 Schneiderman 退出后，该办公室是否会继续对加密货币交易所开展调查。在邮件中，检察长办公室新闻秘书 Amy<br>\n",
      "Spitalnick 写道：“办公室的工作将继续进行。”</p>\n",
      "<p>上个月，纽约州检察长办公室对 13 家加密货币交易所发起了实情调查。这些交易所均收到了检察长办公室发出的详细问卷，其中包括有关其业务模式、运营、资金、交易协议、领导人及业务关系的问题。</p>\n",
      "<p>《纽约客》（New Yorker）一篇文章发表不久后，Schneiderman 便突然宣布辞职，并将于周二营业日结束时生效。</p>\n",
      "<p>在这篇报道中，4 名女子称 Schneiderman“反复在酗酒后对其施暴，而且暴力行为多发生在床上，Schneiderman 从来没有征得她们同意。”其中两名女子此前都曾与 Schneiderman 交往。</p>\n",
      "<p>在宣布开展调查活动之后，CoinDesk 便与其中几家交易所取得了联系，大部分交易所都表示欢迎调查并赞赏了 Schneiderman 为提高行业透明度所作努力。</p>\n",
      "<p>受影响的交易所之一 Coinbase 发布了一版对调查问卷所作答复，但由于其中包含机密信息，因此尚未公布全部答复。</p>\n",
      "<p>然而，有一家交易所却拒绝配合总检察长办公室的调查。</p>\n",
      "<p>Kraken 首席执行官 Jesse<br>\n",
      "Powell 对 CoinDesk 表示：“2015 年 Kraken 因为美国纽约州的交易所准入许可机制 BitLicense 而退出了纽约州市场，现在这个决定终于发挥了作用。”其中交易所准入许可机制 BitLicense 是一项具有争议的许可框架。</p>\n",
      "<p>来源链接：<a href=\"http://chainb.com/?P=Cont&amp;id=9049\">chainb.com</a></p>\n"
     ]
    }
   ],
   "source": [
    "print(demo)"
   ]
  },
  {
   "cell_type": "code",
   "execution_count": 19,
   "id": "d832524c-1854-4273-8c33-20709d23db12",
   "metadata": {},
   "outputs": [],
   "source": [
    "import bs4"
   ]
  },
  {
   "cell_type": "code",
   "execution_count": 20,
   "id": "9b936581-5d50-444f-95f4-ce8244b9112f",
   "metadata": {},
   "outputs": [],
   "source": [
    "demo = bs4.BeautifulSoup(demo)"
   ]
  },
  {
   "cell_type": "code",
   "execution_count": 21,
   "id": "378916dc-2c31-492e-b911-d788e4c55cdf",
   "metadata": {},
   "outputs": [
    {
     "data": {
      "text/plain": [
       "<html><body><p><strong><img alt=\"纽约州总检察长辞职，但加密货币交易所调查工作仍将继续\" loading=\"lazy\" src=\"https://img.chainnews.com/material/images/f249308143f4cd73a03ac7a525b7c650.jpg-article\"/>\n",
       "</strong></p>\n",
       "<blockquote>\n",
       "<p><strong>暴走时评</strong>：四名女子通过《纽约客》一篇文章指控纽约总检察长 Eric<br/>\n",
       "Schneiderman 对其施暴，Schneiderman 随即于本周一晚宣布辞职。而就在上月，总检察长办公室对 13 家加密货币交易所发起了实情调查，据媒体了解到，Schneiderman 的辞职并不会影响对加密货币交易所展开的调查。总检察长办公室的工作将一如既往的展开。</p>\n",
       "</blockquote>\n",
       "<p>翻译：<strong>Clover</strong></p>\n",
       "<p>纽约州总检察长 Eric Schneiderman 本周一晚突然宣布辞职，但这似乎并未影响到检察长办公室对十几家加密货币交易所的调查。</p>\n",
       "<p>CoinDesk 为此特别通过邮件向检察长办公室了解 Schneiderman 退出后，该办公室是否会继续对加密货币交易所开展调查。在邮件中，检察长办公室新闻秘书 Amy<br/>\n",
       "Spitalnick 写道：“办公室的工作将继续进行。”</p>\n",
       "<p>上个月，纽约州检察长办公室对 13 家加密货币交易所发起了实情调查。这些交易所均收到了检察长办公室发出的详细问卷，其中包括有关其业务模式、运营、资金、交易协议、领导人及业务关系的问题。</p>\n",
       "<p>《纽约客》（New Yorker）一篇文章发表不久后，Schneiderman 便突然宣布辞职，并将于周二营业日结束时生效。</p>\n",
       "<p>在这篇报道中，4 名女子称 Schneiderman“反复在酗酒后对其施暴，而且暴力行为多发生在床上，Schneiderman 从来没有征得她们同意。”其中两名女子此前都曾与 Schneiderman 交往。</p>\n",
       "<p>在宣布开展调查活动之后，CoinDesk 便与其中几家交易所取得了联系，大部分交易所都表示欢迎调查并赞赏了 Schneiderman 为提高行业透明度所作努力。</p>\n",
       "<p>受影响的交易所之一 Coinbase 发布了一版对调查问卷所作答复，但由于其中包含机密信息，因此尚未公布全部答复。</p>\n",
       "<p>然而，有一家交易所却拒绝配合总检察长办公室的调查。</p>\n",
       "<p>Kraken 首席执行官 Jesse<br/>\n",
       "Powell 对 CoinDesk 表示：“2015 年 Kraken 因为美国纽约州的交易所准入许可机制 BitLicense 而退出了纽约州市场，现在这个决定终于发挥了作用。”其中交易所准入许可机制 BitLicense 是一项具有争议的许可框架。</p>\n",
       "<p>来源链接：<a href=\"http://chainb.com/?P=Cont&amp;id=9049\">chainb.com</a></p></body></html>"
      ]
     },
     "execution_count": 21,
     "metadata": {},
     "output_type": "execute_result"
    }
   ],
   "source": [
    "demo"
   ]
  },
  {
   "cell_type": "code",
   "execution_count": 26,
   "id": "5c6ce6fa-bac3-42f2-bad5-9812dcc83e30",
   "metadata": {},
   "outputs": [
    {
     "data": {
      "text/plain": [
       "'https://img.chainnews.com/material/images/f249308143f4cd73a03ac7a525b7c650.jpg-article'"
      ]
     },
     "execution_count": 26,
     "metadata": {},
     "output_type": "execute_result"
    }
   ],
   "source": [
    "demo.select('img')[0]['src']"
   ]
  },
  {
   "cell_type": "code",
   "execution_count": 49,
   "id": "2dcb628e-032c-4155-95f8-a3e9931f043b",
   "metadata": {},
   "outputs": [
    {
     "data": {
      "text/plain": [
       "Index(['web-scraper-order', 'web-scraper-start-url', 'title-in-category-page',\n",
       "       'abstract-in-category-page', 'time-in-category-page', 'article-page',\n",
       "       'article-page-href', 'title', 'time', 'content'],\n",
       "      dtype='object')"
      ]
     },
     "execution_count": 49,
     "metadata": {},
     "output_type": "execute_result"
    }
   ],
   "source": [
    "df.columns"
   ]
  },
  {
   "cell_type": "code",
   "execution_count": 50,
   "id": "afde3902-f5ad-4652-9069-c1c438e8fb70",
   "metadata": {},
   "outputs": [
    {
     "name": "stdout",
     "output_type": "stream",
     "text": [
      "https://i2.wp.com/cdn.blockcast.it/wp-content/uploads/2018/03/20151853/lightcash_728x90.jpg?w=700 https://chainnews-archive.org/posts/036664244539/\n",
      "https://i0.wp.com/cdn.blockcast.it/wp-content/uploads/2018/03/22110745/unnamed__2_.0-608x405.jpg?resize=608%2C405 https://chainnews-archive.org/posts/036664244539/\n",
      "http://ow1wrzsju.bkt.clouddn.com/material/images/a28a3e881cc8086ece4b65abb251431e.jpg https://chainnews-archive.org/posts/971420667729/\n",
      "file:///C:/Users/Administrator/AppData/Local/YNote/data/zkhad1991@163.com/9378519d0c1d48bcb28041b69e4e523d%0A/digital-asset-patent-1-728x430.jpg.jpeg https://chainnews-archive.org/posts/563201957122/\n",
      "http://ow1wrzsju.bkt.clouddn.com/material/images/a0a4fcff8b11a26046a76a9e744137c9.jpg https://chainnews-archive.org/posts/408772907010/\n",
      "http://ow1wrzsju.bkt.clouddn.com/material/images/a28a3e881cc8086ece4b65abb251431e.jpg https://chainnews-archive.org/posts/507443313762/\n",
      "https://i1.wp.com/cdn.blockcast.it/wp-content/uploads/2018/03/14122411/%E8%9E%A2%E5%B9%95%E5%BF%AB%E7%85%A7-2018-03-14-%E4%B8%8B%E5%8D%8812.21.48.png?resize=404%2C405 https://chainnews-archive.org/posts/653559258824/\n",
      "http://ow1wrzsju.bkt.clouddn.com/material/images/a28a3e881cc8086ece4b65abb251431e.jpg https://chainnews-archive.org/posts/044458228721/\n",
      "https://i2.wp.com/cdn.blockcast.it%0A/wp-content/uploads/2018/01/17115631/8e9ef48b8bb512afb395a54fa0ef24eb.jpg?resize=700%2C324 https://chainnews-archive.org/posts/284930534588/\n",
      "http://bbs-prd.oss-cn-hongkong.aliyuncs.com/961c7b4b-7d57-4c92-a467-2d8df4e3a7b3.jpeg https://chainnews-archive.org/posts/143260600404/\n",
      "http://bbs-prd.oss-cn-hongkong.aliyuncs.com/5a275e81-1b5f-47a7-ab2e-5e4b26c8d0bd.png https://chainnews-archive.org/posts/143260600404/\n",
      "http://bbs-prd.oss-cn-hongkong.aliyuncs.com/dfc7528e-2e2a-4295-8e26-39198474a883.png https://chainnews-archive.org/posts/143260600404/\n",
      "http://ow1wrzsju.bkt.clouddn.com/material/images/4d12b172daf164ff86040a57eda068d1.jpg https://chainnews-archive.org/posts/777529961978/\n",
      "http://ow1wrzsju.bkt.clouddn.com/material/images/d8672cb74748595b5eef64a958038798.jpg https://chainnews-archive.org/posts/092430277377/\n",
      "http://ow1wrzsju.bkt.clouddn.com/material/images/16ddde4b16adbf342c881535c4edd53e.jpg https://chainnews-archive.org/posts/092430277377/\n",
      "http://ow1wrzsju.bkt.clouddn.com/material/images/23acbdcc996f0be7a4f4caa5a929b36c.jpg https://chainnews-archive.org/posts/092430277377/\n",
      "http://ow1wrzsju.bkt.clouddn.com/material/images/2a1cbc01f72f0a28c68621e91feed0bd.jpg https://chainnews-archive.org/posts/092430277377/\n",
      "http://ow1wrzsju.bkt.clouddn.com/material/images/e870c50b7e2843070d0dff4c11afea43.jpg https://chainnews-archive.org/posts/092430277377/\n",
      "http://ow1wrzsju.bkt.clouddn.com/material/images/2f171e1137162d5968ca75768bc7119c.jpg https://chainnews-archive.org/posts/092430277377/\n",
      "http://ow1wrzsju.bkt.clouddn.com/material/images/0ee46c07629e0b8cf048fd4c3b5a3e48.jpg https://chainnews-archive.org/posts/063972904838/\n",
      "http://ow1wrzsju.bkt.clouddn.com/material/images/18510ad15b272ec9f3404c4a118bc179.jpg https://chainnews-archive.org/posts/434636418891/\n",
      "http://ow1wrzsju.bkt.clouddn.com/material/images/8010758351c4fcd31826ca9751ccd71b.jpg https://chainnews-archive.org/posts/717477849560/\n",
      "http://ow1wrzsju.bkt.clouddn.com/material/images/a28a3e881cc8086ece4b65abb251431e.jpg https://chainnews-archive.org/posts/089839949563/\n",
      "http://ow1wrzsju.bkt.clouddn.com/material/images/348c81dea0cd0604fd0b629c2d24db1c.jpg https://chainnews-archive.org/posts/767923959909/\n",
      "http://ow1wrzsju.bkt.clouddn.com/material/images/fb56dd7f4e8740eea044be70361fba99.jpg https://chainnews-archive.org/posts/767923959909/\n",
      "http://ow1wrzsju.bkt.clouddn.com/material/images/3fd092d9448f172546a992e7de2522c8.jpg https://chainnews-archive.org/posts/767923959909/\n",
      "http://ow1wrzsju.bkt.clouddn.com/material/images/c96df59197e70863504cd7f3aa9f44e8.jpg https://chainnews-archive.org/posts/767923959909/\n",
      "http://ow1wrzsju.bkt.clouddn.com/material/images/c96df59197e70863504cd7f3aa9f44e8.jpg https://chainnews-archive.org/posts/767923959909/\n",
      "http://ow1wrzsju.bkt.clouddn.com/material/images/fb90241cb9624bd20d197a2fab7d327b.jpg https://chainnews-archive.org/posts/767923959909/\n",
      "http://ow1wrzsju.bkt.clouddn.com/material/images/4ff763b2136fca665316de01911bc10e.jpg https://chainnews-archive.org/posts/415420131004/\n",
      "http://ow1wrzsju.bkt.clouddn.com/material/images/44ac6797157b9209c09f98f9656b24fd.jpg https://chainnews-archive.org/posts/415420131004/\n",
      "http://ow1wrzsju.bkt.clouddn.com/material/images/23acbdcc996f0be7a4f4caa5a929b36c.jpg https://chainnews-archive.org/posts/415420131004/\n",
      "http://ow1wrzsju.bkt.clouddn.com/material/images/2a1cbc01f72f0a28c68621e91feed0bd.jpg https://chainnews-archive.org/posts/415420131004/\n",
      "http://ow1wrzsju.bkt.clouddn.com/material/images/e870c50b7e2843070d0dff4c11afea43.jpg https://chainnews-archive.org/posts/415420131004/\n",
      "http://ow1wrzsju.bkt.clouddn.com/material/images/2f27811ceacd01e1f8cbc1fad26d0e07.jpg https://chainnews-archive.org/posts/545608738471/\n",
      "https://i2.wp.com/cdn.blockcast.it/wp-content/uploads/2018/03/02154839/B6FDA17933499C74BD9CAF03F2A3E6A1E3C868FF_size14_w273_h500-160x293.jpeg?resize=160%2C293 https://chainnews-archive.org/posts/119316871445/\n",
      "http://ow1wrzsju.bkt.clouddn.com/material/images/2819c585ad9da9fdace5341410142d92.jpg https://chainnews-archive.org/posts/164151548459/\n",
      "http://ow1wrzsju.bkt.clouddn.com/material/images/23acbdcc996f0be7a4f4caa5a929b36c.jpg https://chainnews-archive.org/posts/164151548459/\n",
      "http://ow1wrzsju.bkt.clouddn.com/material/images/2a1cbc01f72f0a28c68621e91feed0bd.jpg https://chainnews-archive.org/posts/164151548459/\n",
      "http://ow1wrzsju.bkt.clouddn.com/material/images/e870c50b7e2843070d0dff4c11afea43.jpg https://chainnews-archive.org/posts/164151548459/\n",
      "http://ow1wrzsju.bkt.clouddn.com/material/images/2f171e1137162d5968ca75768bc7119c.jpg https://chainnews-archive.org/posts/164151548459/\n",
      "http://bbs-prd.oss-cn-hongkong.aliyuncs.com/604ce03e-7452-4a26-ae4c-08519396714e.png https://chainnews-archive.org/posts/903375033028/\n",
      "http://bbs-prd.oss-cn-hongkong.aliyuncs.com/01e1f25c-5a56-43e9-a32c-abc9e9106a7f.png https://chainnews-archive.org/posts/903375033028/\n",
      "http://ow1wrzsju.bkt.clouddn.com/material/images/98fc2a9f5ee7deaf412ca50e0d5638cc.jpg https://chainnews-archive.org/posts/387764526015/\n",
      "http://ow1wrzsju.bkt.clouddn.com/material/images/62d836f08fbca88ff7dacd7f780b118e.jpg https://chainnews-archive.org/posts/387764526015/\n",
      "http://ow1wrzsju.bkt.clouddn.com/material/images/3a5c6316399bc4d5ceaf89465c5159ac.jpg https://chainnews-archive.org/posts/096985168675/\n",
      "http://ow1wrzsju.bkt.clouddn.com/material/images/b50a42cd4c805518003b6e69ec31a7b0.jpg https://chainnews-archive.org/posts/096985168675/\n",
      "http://ow1wrzsju.bkt.clouddn.com/material/images/664f3b434678c9ead4cff9dd73d734c2.jpg https://chainnews-archive.org/posts/096985168675/\n",
      "http://ow1wrzsju.bkt.clouddn.com/material/images/57e3178b900e1bbdf46cbbf565bf47e3.jpg https://chainnews-archive.org/posts/096985168675/\n",
      "http://ow1wrzsju.bkt.clouddn.com/material/images/a9fc08144f7ecdf280a8797ac430b4c4.jpg https://chainnews-archive.org/posts/096985168675/\n",
      "http://ow1wrzsju.bkt.clouddn.com/material/images/35df488b247682682010cde4123082f2.jpg https://chainnews-archive.org/posts/096985168675/\n",
      "http://ow1wrzsju.bkt.clouddn.com/material/images/47b50459868a1a3cd39da47fd998ad51.jpg https://chainnews-archive.org/posts/096985168675/\n",
      "http://ow1wrzsju.bkt.clouddn.com/material/images/f3aca3f3f93d86548f1e54abcde3a223.jpg https://chainnews-archive.org/posts/680794929018/\n",
      "http://ow1wrzsju.bkt.clouddn.com/material/images/75d31b260479a6442884c791bd7db034.jpg https://chainnews-archive.org/posts/052015495420/\n",
      "https://i0.wp.com/cdn.blockcast.it/wp-content/uploads/2018/05/16154632%0A/mark-zuckerberg-jack-dorsey-720x306.jpg?resize=700%2C298 https://chainnews-archive.org/posts/150605801722/\n",
      "https://cdn.8btc.com/wp-content/uploads/2018/08/201808130752375180.jpg https://chainnews-archive.org/posts/601789108623/\n",
      "/uploads/20180814/20180814131076987698.jpg https://chainnews-archive.org/posts/521228723545/\n",
      "http://ow1wrzsju.bkt.clouddn.com/material/images/f9da66ecab17b051c0f79654a3a6c88b.jpg https://chainnews-archive.org/posts/176012178866/\n",
      "http://ow1wrzsju.bkt.clouddn.com/material/images/2c31e318922c19127e6361fcd975620d.jpg https://chainnews-archive.org/posts/176012178866/\n",
      "http://ow1wrzsju.bkt.clouddn.com/material/images/f7f7156a7bed9943b2acc88f1af43f68.jpg https://chainnews-archive.org/posts/176012178866/\n",
      "http://ow1wrzsju.bkt.clouddn.com/material/images/6e9783e1516207a069e556d2a0fdd9fd.jpg https://chainnews-archive.org/posts/176012178866/\n",
      "http://ow1wrzsju.bkt.clouddn.com/material/images/349ac43050e7283cb8df962e8a98ea22.jpg https://chainnews-archive.org/posts/176012178866/\n",
      "http://ow1wrzsju.bkt.clouddn.com/material/images/c73df5f21f67e6b344d8cc21711d8fab.jpg https://chainnews-archive.org/posts/176012178866/\n",
      "http://ow1wrzsju.bkt.clouddn.com/material/images/317f112e3fb0c3f3f90a438cdc572538.jpg https://chainnews-archive.org/posts/176012178866/\n",
      "http://ow1wrzsju.bkt.clouddn.com/material/images/21f2b87d5ed1e38796cd944d131e31bf.jpg https://chainnews-archive.org/posts/176012178866/\n",
      "http://ow1wrzsju.bkt.clouddn.com/material/images/28c4b32c874d4313551e5c9264235302.jpg https://chainnews-archive.org/posts/176012178866/\n",
      "http://ow1wrzsju.bkt.clouddn.com/material/images/bfec983975a1badd6cdba441f7ab4361.jpg https://chainnews-archive.org/posts/176012178866/\n",
      "http://ow1wrzsju.bkt.clouddn.com/material/images/7e9a045ff57e6fbc54b0673573c00efc.jpg https://chainnews-archive.org/posts/176012178866/\n",
      "http://ow1wrzsju.bkt.clouddn.com/material/images/ae887cd33a928179521bd8afaf199a11.jpg https://chainnews-archive.org/posts/176012178866/\n",
      "http://ow1wrzsju.bkt.clouddn.com/material/images/452d9355ffbcfaa2b5e47865d9f1c521.jpg https://chainnews-archive.org/posts/176012178866/\n",
      "http://ow1wrzsju.bkt.clouddn.com/material/images/23acbdcc996f0be7a4f4caa5a929b36c.jpg https://chainnews-archive.org/posts/899346823510/\n",
      "http://ow1wrzsju.bkt.clouddn.com/material/images/2a1cbc01f72f0a28c68621e91feed0bd.jpg https://chainnews-archive.org/posts/899346823510/\n",
      "http://ow1wrzsju.bkt.clouddn.com/material/images/e870c50b7e2843070d0dff4c11afea43.jpg https://chainnews-archive.org/posts/899346823510/\n",
      "http://ow1wrzsju.bkt.clouddn.com/material/images/2f171e1137162d5968ca75768bc7119c.jpg https://chainnews-archive.org/posts/899346823510/\n",
      "http://ow1wrzsju.bkt.clouddn.com/material/images/6c0139235283ad8297d7132cca9153a4.jpg https://chainnews-archive.org/posts/597036545314/\n",
      "http://ow1wrzsju.bkt.clouddn.com/material/images/2ecd4aefca91b04224ea9997c35da8bc.jpg https://chainnews-archive.org/posts/597036545314/\n",
      "http://ow1wrzsju.bkt.clouddn.com/material/images/422e8689dc5ccbe1342b9fac682c1afa.jpg https://chainnews-archive.org/posts/597036545314/\n",
      "http://ow1wrzsju.bkt.clouddn.com/material/images/8245a12cbcc799c89bef0cabdadc4ce4.jpg https://chainnews-archive.org/posts/597036545314/\n",
      "http://ow1wrzsju.bkt.clouddn.com/material/images/d9ba5584375fc093b71ab4f29f1a5405.jpg https://chainnews-archive.org/posts/597036545314/\n",
      "http://ow1wrzsju.bkt.clouddn.com/material/images/f2b8575493b3ca9c69681482acae49ae.jpg https://chainnews-archive.org/posts/597036545314/\n",
      "http://ow1wrzsju.bkt.clouddn.com/material/images/64c23dc8ca2019c7a077779cba7da875.jpg https://chainnews-archive.org/posts/597036545314/\n",
      "http://ow1wrzsju.bkt.clouddn.com/material/images/ce20d09337a6c9e89317081f77a0eb2f.jpg https://chainnews-archive.org/posts/597036545314/\n",
      "http://ow1wrzsju.bkt.clouddn.com/material/images/73dfc314ad70c4f3417f0fd01a044407.jpg https://chainnews-archive.org/posts/597036545314/\n",
      "http://ow1wrzsju.bkt.clouddn.com/material/images/d4b4636b0edb86f3aae027a43076fde6.jpg https://chainnews-archive.org/posts/597036545314/\n",
      "http://ow1wrzsju.bkt.clouddn.com/material/images/2473c6803e6ea981e79260562d0b0bb3.jpg https://chainnews-archive.org/posts/597036545314/\n",
      "https://i2.wp.com/cdn.blockcast.it/wp-content/uploads/2018/03/20151853/lightcash_728x90.jpg?w=700 https://chainnews-archive.org/posts/293044506945/\n",
      "http://ow1wrzsju.bkt.clouddn.com/material/images/28ec28b027c0d9b3812962bfe490822f.jpg https://chainnews-archive.org/posts/376427050336/\n",
      "http://ow1wrzsju.bkt.clouddn.com/material/images/2dfff6309c6afe2def4eee9edbc9ab75.jpg https://chainnews-archive.org/posts/730590330777/\n",
      "http://ow1wrzsju.bkt.clouddn.com/material/images/b94c62250146c57fd2df629fcf76c86d.jpg https://chainnews-archive.org/posts/730590330777/\n",
      "http://ow1wrzsju.bkt.clouddn.com/material/images/b70370f9-8ae7-5f44-b0ce-078812d90df9.png https://chainnews-archive.org/posts/779783237718/\n",
      "http://ow1wrzsju.bkt.clouddn.com/material/images/c7696db0-3f05-5a5e-a705-d6cc7a290788_DgFoIN4.png https://chainnews-archive.org/posts/779783237718/\n",
      "http://ow1wrzsju.bkt.clouddn.com/material/images/54399a3d-73bf-578f-814d-5b40cb87f4f9.png https://chainnews-archive.org/posts/779783237718/\n",
      "http://ow1wrzsju.bkt.clouddn.com/material/images/a28a3e881cc8086ece4b65abb251431e.jpg https://chainnews-archive.org/posts/750179845377/\n",
      "http://ow1wrzsju.bkt.clouddn.com/material/images/c5427a0bc57f4ed570f660b401cfb865.jpg https://chainnews-archive.org/posts/674627806343/\n",
      "http://ow1wrzsju.bkt.clouddn.com/material/images/a1733ff16cdc9438539af36076e990a5.jpg https://chainnews-archive.org/posts/674627806343/\n",
      "http://ow1wrzsju.bkt.clouddn.com/material/images/5ca3c3eb69a6605b4e24eadf7b596321.jpg https://chainnews-archive.org/posts/674627806343/\n",
      "http://ow1wrzsju.bkt.clouddn.com/material/images/8b7581fca23e920a513af9ccdf02c435.jpg https://chainnews-archive.org/posts/674627806343/\n",
      "http://ow1wrzsju.bkt.clouddn.com/material/images/ae218999c2cf087f3311bfe984104a22.jpg https://chainnews-archive.org/posts/674627806343/\n",
      "http://ow1wrzsju.bkt.clouddn.com/material/images/7162e75bcf79360708fa81f0d06372b7.jpg https://chainnews-archive.org/posts/674627806343/\n",
      "http://ow1wrzsju.bkt.clouddn.com/material/images/bb3be3226d5085cb174dd6b294f7c5e3.jpg https://chainnews-archive.org/posts/216618359486/\n",
      "http://ow1wrzsju.bkt.clouddn.com/material/images/23acbdcc996f0be7a4f4caa5a929b36c.jpg https://chainnews-archive.org/posts/216618359486/\n",
      "http://ow1wrzsju.bkt.clouddn.com/material/images/2a1cbc01f72f0a28c68621e91feed0bd.jpg https://chainnews-archive.org/posts/216618359486/\n",
      "http://ow1wrzsju.bkt.clouddn.com/material/images/e870c50b7e2843070d0dff4c11afea43.jpg https://chainnews-archive.org/posts/216618359486/\n",
      "http://ow1wrzsju.bkt.clouddn.com/material/images/2f171e1137162d5968ca75768bc7119c.jpg https://chainnews-archive.org/posts/216618359486/\n",
      "https://i1.wp.com/cdn.blockcast.it/wp-content/uploads/2018/01/16161540/5a44bb95fc7e9354778b4568-720x405.jpg?resize=700%2C394 https://chainnews-archive.org/posts/281247791517/\n",
      "https://i0.wp.com/cdn.blockcast.it/wp-content/uploads/2018/01/16155324/5a598d7dfc7e93b31d8b4567-720x405.jpg?resize=700%2C394 https://chainnews-archive.org/posts/281247791517/\n",
      "http://ow1wrzsju.bkt.clouddn.com/material/images/8c67438b1c5cc9f6c81007bf26fdef5c.jpg https://chainnews-archive.org/posts/346296511202/\n",
      "https://i1.wp.com/cdn.blockcast.it/wp-content/uploads/2018/02/08202254/%E8%9E%A2%E5%B9%95%E5%BF%AB%E7%85%A7-2018-02-08-%E4%B8%8B%E5%8D%888.17.56.png?resize=600%2C352 https://chainnews-archive.org/posts/691299630825/\n",
      "http://ow1wrzsju.bkt.clouddn.com/material/images/07b0505009d48b39cc77ca1b208125e6.jpg https://chainnews-archive.org/posts/323712336597/\n",
      "http://ow1wrzsju.bkt.clouddn.com/material/images/44ac6797157b9209c09f98f9656b24fd.jpg https://chainnews-archive.org/posts/323712336597/\n",
      "http://ow1wrzsju.bkt.clouddn.com/material/images/23acbdcc996f0be7a4f4caa5a929b36c.jpg https://chainnews-archive.org/posts/323712336597/\n",
      "http://ow1wrzsju.bkt.clouddn.com/material/images/2a1cbc01f72f0a28c68621e91feed0bd.jpg https://chainnews-archive.org/posts/323712336597/\n",
      "http://ow1wrzsju.bkt.clouddn.com/material/images/e870c50b7e2843070d0dff4c11afea43.jpg https://chainnews-archive.org/posts/323712336597/\n",
      "http://ow1wrzsju.bkt.clouddn.com/material/images/5a1e2cfa9128295d7920c39fc5d2d7de.jpg https://chainnews-archive.org/posts/249181626335/\n",
      "http://ow1wrzsju.bkt.clouddn.com/material/images/e45fc2bbe3aa12a4f88713a0b452cfce.jpg https://chainnews-archive.org/posts/249181626335/\n",
      "http://ow1wrzsju.bkt.clouddn.com/material/images/01978ea0d2f5bc2f758a8ba8b1315af1.jpg https://chainnews-archive.org/posts/249181626335/\n",
      "http://ow1wrzsju.bkt.clouddn.com/material/images/1d15972c7a593795bb9631679cbd74a6.jpg https://chainnews-archive.org/posts/249181626335/\n",
      "http://ow1wrzsju.bkt.clouddn.com/material/images/0c8f90396c854b5e30663f75655128ba.jpg https://chainnews-archive.org/posts/249181626335/\n",
      "http://ow1wrzsju.bkt.clouddn.com/material/images/dcf0653aac69c9aa96d343bbcdc5fa51.jpg https://chainnews-archive.org/posts/249181626335/\n",
      "http://ow1wrzsju.bkt.clouddn.com/material/images/699fcb409929241bb48af818bf78e909.jpg https://chainnews-archive.org/posts/244092367605/\n",
      "http://ow1wrzsju.bkt.clouddn.com/material/images/1de59e8d841b04d250624776a21aec8a.jpg https://chainnews-archive.org/posts/244092367605/\n",
      "http://ow1wrzsju.bkt.clouddn.com/material/images/c617b1733033182947a1658172c2f234.jpg https://chainnews-archive.org/posts/244092367605/\n",
      "https://i2.wp.com/cdn.blockcast.it/wp-content/uploads/2017/10/22184435/%E8%9E%A2%E5%B9%95%E5%BF%AB%E7%85%A7-2017-10-22-%E4%B8%8B%E5%8D%886.43.19.png?resize=700%2C157 https://chainnews-archive.org/posts/710244538233/\n",
      "https://i0.wp.com/cdn.blockcast.it/wp-content/uploads/2017/10/22184533/%E8%9E%A2%E5%B9%95%E5%BF%AB%E7%85%A7-2017-10-22-%E4%B8%8B%E5%8D%886.43.35.png?resize=700%2C242 https://chainnews-archive.org/posts/710244538233/\n",
      "http://ow1wrzsju.bkt.clouddn.com/material/images/2f1128e5f10dfd289461699ead503e9a.jpg https://chainnews-archive.org/posts/982733428469/\n",
      "http://ow1wrzsju.bkt.clouddn.com/material/images/570fdc868c1574fb177788672285f697.jpg https://chainnews-archive.org/posts/982733428469/\n",
      "http://ow1wrzsju.bkt.clouddn.com/material/images/e938126acb5ece55b471e698f812206a.jpg https://chainnews-archive.org/posts/982733428469/\n",
      "http://ow1wrzsju.bkt.clouddn.com/material/images/23acbdcc996f0be7a4f4caa5a929b36c.jpg https://chainnews-archive.org/posts/982733428469/\n",
      "http://ow1wrzsju.bkt.clouddn.com/material/images/2a1cbc01f72f0a28c68621e91feed0bd.jpg https://chainnews-archive.org/posts/982733428469/\n",
      "http://ow1wrzsju.bkt.clouddn.com/material/images/e870c50b7e2843070d0dff4c11afea43.jpg https://chainnews-archive.org/posts/982733428469/\n",
      "http://ow1wrzsju.bkt.clouddn.com/material/images/2f171e1137162d5968ca75768bc7119c.jpg https://chainnews-archive.org/posts/982733428469/\n",
      "http://ow1wrzsju.bkt.clouddn.com/material/images/d72f912aadc44a816fa269f45332c6f6.jpg https://chainnews-archive.org/posts/068370846353/\n",
      "http://ow1wrzsju.bkt.clouddn.com/material/images/75fad02a19ca353f939e775d85ec30c7.jpg https://chainnews-archive.org/posts/068370846353/\n",
      "http://ow1wrzsju.bkt.clouddn.com/material/images/21e40de524e39f0ca2f3699f3d021fc0.jpg https://chainnews-archive.org/posts/068370846353/\n",
      "http://ow1wrzsju.bkt.clouddn.com/material/images/56382369792f493e49fc481758aaff31.jpg https://chainnews-archive.org/posts/068370846353/\n",
      "http://ow1wrzsju.bkt.clouddn.com/material/images/32c6e72e7c341fcf56f9e74e472ace99.jpg https://chainnews-archive.org/posts/068370846353/\n",
      "http://ow1wrzsju.bkt.clouddn.com/material/images/d0ff5378ea1520b56bb697034788a208.jpg https://chainnews-archive.org/posts/068370846353/\n",
      "http://ow1wrzsju.bkt.clouddn.com/material/images/800b735ea8cc522a23c1104b7fc5fbd1.jpg https://chainnews-archive.org/posts/068370846353/\n",
      "http://ow1wrzsju.bkt.clouddn.com/material/images/4d9e1c94d8c953c12435baf55bde3ca2.jpg https://chainnews-archive.org/posts/068370846353/\n",
      "http://ow1wrzsju.bkt.clouddn.com/material/images/0aa99b0a3e19bd337c182bedec091d04.jpg https://chainnews-archive.org/posts/333108994010/\n",
      "http://ow1wrzsju.bkt.clouddn.com/material/images/fceed22e410271fd1c30d42b5922d5bc.jpg https://chainnews-archive.org/posts/333108994010/\n",
      "http://ow1wrzsju.bkt.clouddn.com/material/images/b80f11e1f7932c6e6123cbd49684846b.jpg https://chainnews-archive.org/posts/333108994010/\n",
      "http://ow1wrzsju.bkt.clouddn.com/material/images/69d3f487abb4a21cf25f1c982526af66.jpg https://chainnews-archive.org/posts/012167491822/\n",
      "http://ow1wrzsju.bkt.clouddn.com/material/images/15e21b6394db74685866595bfb428f57.jpg https://chainnews-archive.org/posts/012167491822/\n",
      "http://ow1wrzsju.bkt.clouddn.com/material/images/a0b3a51d-569a-50dc-a8ba-dfc004bdf520.jpg https://chainnews-archive.org/posts/596752741723/\n",
      "http://ow1wrzsju.bkt.clouddn.com/material/images/c512e238-fcd9-51b6-8ea3-2f73da054ddd.jpg https://chainnews-archive.org/posts/596752741723/\n",
      "https://i1.wp.com/cdn.blockcast.it/wp-content/uploads/2018/04/02160413/%E8%9E%A2%E5%B9%95%E5%BF%AB%E7%85%A7-2018-04-02-16.03.25.png?resize=700%2C305 https://chainnews-archive.org/posts/936222371399/\n",
      "https://i2.wp.com/cdn.blockcast.it/wp-content/uploads/2018/03/20151853/lightcash_728x90.jpg?w=700 https://chainnews-archive.org/posts/936222371399/\n",
      "https://i0.wp.com/cdn.blockcast.it/wp-content/uploads/2018/04/02162241/bitcoin2018q1-720x387.png?resize=700%2C376 https://chainnews-archive.org/posts/936222371399/\n",
      "http://www.blockvalue.com/d/file/2018-02-08/9da471555ccbfbf02bd23c233b56b1ef.jpg https://chainnews-archive.org/posts/101552985783/\n",
      "http://ow1wrzsju.bkt.clouddn.com/material/images/9bf7951f-b67d-5ad7-8814-4b2d113ffeff_GsTFFjy.jpg https://chainnews-archive.org/posts/999741566114/\n",
      "http://ow1wrzsju.bkt.clouddn.com/material/images/809e4ba4-09f2-5869-83b7-65945ff2aada_HTNn3UM.jpg https://chainnews-archive.org/posts/999741566114/\n",
      "http://ow1wrzsju.bkt.clouddn.com/material/images/c87a2c02-389b-5491-9159-ff4b8ce45aac_madBvVW.jpg https://chainnews-archive.org/posts/999741566114/\n",
      "http://ow1wrzsju.bkt.clouddn.com/material/images/aa557aa2-641e-5063-a70a-646d00128afa.jpg https://chainnews-archive.org/posts/999741566114/\n",
      "http://ow1wrzsju.bkt.clouddn.com/material/images/1bcc11a95ca269b99a62569c05f62f5a.jpg https://chainnews-archive.org/posts/158782955469/\n",
      "http://ow1wrzsju.bkt.clouddn.com/material/images/48a90e58adf92ea8c3de26f48b224d6a.jpg https://chainnews-archive.org/posts/158782955469/\n",
      "http://ow1wrzsju.bkt.clouddn.com/material/images/875d75bd357d63cf0ecb81664f8d903b.jpg https://chainnews-archive.org/posts/158782955469/\n",
      "http://ow1wrzsju.bkt.clouddn.com/material/images/491f93d77520d9f59a700628f835c9ed.jpg https://chainnews-archive.org/posts/158782955469/\n",
      "http://file.gongxiangcj.com/GbBO-%0Afyqincu3013825.png https://chainnews-archive.org/posts/575396279659/\n",
      "http://ow1wrzsju.bkt.clouddn.com/material/images/96075246763bb052631476b61c9098c8.jpg https://chainnews-archive.org/posts/575396279659/\n",
      "http://file.gongxiangcj.com/AI2N-%0Afyqincu3013995.png https://chainnews-archive.org/posts/575396279659/\n",
      "http://ow1wrzsju.bkt.clouddn.com/material/images/091114664a85186a215701e4b154059f.jpg https://chainnews-archive.org/posts/486487220878/\n",
      "http://ow1wrzsju.bkt.clouddn.com/material/images/b6ca649c9ecf0a3f8b4282a4389e0bb6.jpg https://chainnews-archive.org/posts/865308693910/\n",
      "//image.imspender.com/images/9b08709f5bd206446a8c8dcaacb18774678e91f5.jpg https://chainnews-archive.org/posts/090982484207/\n",
      "//image.imspender.com/images/2d09425d705054c4fe6de80876c258f22e0eff3c.jpg https://chainnews-archive.org/posts/090982484207/\n",
      "//image.imspender.com/images/7a7053cc1aef649b9a1acbc4b1b1cbac23a70780.jpg https://chainnews-archive.org/posts/090982484207/\n",
      "//image.imspender.com/images/f7ed4999576bd4ea3a8be5bedfa383346ed2fa8b.jpg https://chainnews-archive.org/posts/090982484207/\n",
      "http://ow1wrzsju.bkt.clouddn.com/material/images/89f820860f765920e8d66ea3dade9071.jpg https://chainnews-archive.org/posts/256347890235/\n",
      "https://cdn.8btc.com/wp-content/uploads/2018/08/201808130631261950.jpg https://chainnews-archive.org/posts/170442278450/\n",
      "https://cdn.8btc.com/wp-content/uploads/2018/08/201808130632072960.jpg https://chainnews-archive.org/posts/170442278450/\n",
      "https://cdn.8btc.com/wp-content/uploads/2018/08/201808130632359747.jpg https://chainnews-archive.org/posts/170442278450/\n",
      "http://ow1wrzsju.bkt.clouddn.com/material/images/5c2dc8633ce60129452c6e6fab323b73.jpg https://chainnews-archive.org/posts/686432447599/\n",
      "http://ow1wrzsju.bkt.clouddn.com/material/images/a28a3e881cc8086ece4b65abb251431e.jpg https://chainnews-archive.org/posts/301418901972/\n",
      "http://ow1wrzsju.bkt.clouddn.com/material/images/8bf09b8721caee0bfd299deec88f0910.jpg https://chainnews-archive.org/posts/126314346386/\n",
      "https://i1.wp.com/cdn.blockcast.it/wp-content/uploads/2018/03/03134848/%E8%9E%A2%E5%B9%95%E5%BF%AB%E7%85%A7-2018-03-03-%E4%B8%8B%E5%8D%881.47.26.png?resize=520%2C187 https://chainnews-archive.org/posts/950752887860/\n",
      "http://ow1wrzsju.bkt.clouddn.com/material/images/c3427db9f1a7b94500aa76aa47f88da1.jpg https://chainnews-archive.org/posts/985521111994/\n",
      "http://ow1wrzsju.bkt.clouddn.com/material/images/2f171e1137162d5968ca75768bc7119c.jpg https://chainnews-archive.org/posts/985521111994/\n",
      "http://ow1wrzsju.bkt.clouddn.com/material/images/3498702b18da2118a00be0325c622bd8.jpg https://chainnews-archive.org/posts/536446917638/\n",
      "http://ow1wrzsju.bkt.clouddn.com/material/images/62dddec5a1311bb223af2be173d563cf.jpg https://chainnews-archive.org/posts/536446917638/\n",
      "http://ow1wrzsju.bkt.clouddn.com/material/images/225497c94a65a743f1801331980a9386.jpg https://chainnews-archive.org/posts/536446917638/\n",
      "http://ow1wrzsju.bkt.clouddn.com/material/images/54a7e8a21af0cd7f15b8230059a39d71.jpg https://chainnews-archive.org/posts/536446917638/\n",
      "http://ow1wrzsju.bkt.clouddn.com/material/images/4b07a7226a01192205c330bc6133cc0a.jpg https://chainnews-archive.org/posts/536446917638/\n",
      "http://ow1wrzsju.bkt.clouddn.com/material/images/eef11ba510e175d5611930bd4aadb7bd.jpg https://chainnews-archive.org/posts/536446917638/\n",
      "http://7fvhfe.com1.z0.glb.clouddn.com%0A/wp-content/uploads/2015/03/07projected_coin_distribution_over_time_log.png https://chainnews-archive.org/posts/536446917638/\n",
      "http://ow1wrzsju.bkt.clouddn.com/material/images/3658c775e2238389128e1c23139a5216.jpg https://chainnews-archive.org/posts/536446917638/\n",
      "http://ow1wrzsju.bkt.clouddn.com/material/images/458af1eb8a244f4e24b0cc28efaaa052.jpg https://chainnews-archive.org/posts/051897072371/\n",
      "https://mmbiz.qpic.cn/mmbiz_png/Kr4IlZSemsHORbHJyamBW4IC12TFCEPCpOFR4QK8J6g0QTBt20lnzWQPhide0GmRDudFiaF6lGlk37lYzPhCa02g/640?wx_fmt=png https://chainnews-archive.org/posts/169737056692/\n",
      "http://ow1wrzsju.bkt.clouddn.com/material/images/0715a61d5d55cbff7a0a0b4083f2bdca.jpg https://chainnews-archive.org/posts/159444941383/\n",
      "http://ow1wrzsju.bkt.clouddn.com/material/images/75e68d4a7d8879cee1ad79c137f2dd4b.jpg https://chainnews-archive.org/posts/263015023936/\n",
      "http://ow1wrzsju.bkt.clouddn.com/material/images/10b458f07f83d90672c4134515b54bc1.jpg https://chainnews-archive.org/posts/803931772148/\n",
      "http://ow1wrzsju.bkt.clouddn.com/material/images/12538b66b5479f80cf2f1c39cf089db4.jpg https://chainnews-archive.org/posts/803931772148/\n",
      "http://ow1wrzsju.bkt.clouddn.com/material/images/1d5911337ea579388bb634a6508582cb.jpg https://chainnews-archive.org/posts/803931772148/\n",
      "http://ow1wrzsju.bkt.clouddn.com/material/images/879b24928faefb2fbc91daa5bc1ba0a2.jpg https://chainnews-archive.org/posts/803931772148/\n",
      "http://ow1wrzsju.bkt.clouddn.com/material/images/60818a9fdcb87e185e11136bc9dd0844.jpg https://chainnews-archive.org/posts/803931772148/\n",
      "http://ow1wrzsju.bkt.clouddn.com/material/images/4edb8098dab52a9c621126fe45de2353.jpg https://chainnews-archive.org/posts/803931772148/\n",
      "http://ow1wrzsju.bkt.clouddn.com/material/images/c5a97c25825b3250686e16b38c1499f1.jpg https://chainnews-archive.org/posts/803931772148/\n",
      "http://ow1wrzsju.bkt.clouddn.com/material/images/9eb132fbd130b80152bdc50f8aaca27b.jpg https://chainnews-archive.org/posts/803931772148/\n",
      "http://ow1wrzsju.bkt.clouddn.com/material/images/729ad9e8ab30b5d57e6cc80d9e5f7e50.jpg https://chainnews-archive.org/posts/278296089818/\n",
      "http://ow1wrzsju.bkt.clouddn.com/material/images/23acbdcc996f0be7a4f4caa5a929b36c.jpg https://chainnews-archive.org/posts/278296089818/\n",
      "http://ow1wrzsju.bkt.clouddn.com/material/images/2a1cbc01f72f0a28c68621e91feed0bd.jpg https://chainnews-archive.org/posts/278296089818/\n",
      "http://ow1wrzsju.bkt.clouddn.com/material/images/e870c50b7e2843070d0dff4c11afea43.jpg https://chainnews-archive.org/posts/278296089818/\n",
      "http://ow1wrzsju.bkt.clouddn.com/material/images/2f171e1137162d5968ca75768bc7119c.jpg https://chainnews-archive.org/posts/278296089818/\n",
      "http://ow1wrzsju.bkt.clouddn.com/material/images/6e3823c669daa806dfaa05382fff949f.jpg https://chainnews-archive.org/posts/334448002817/\n",
      "https://i1.wp.com/cdn.blockcast.it/wp-content/uploads/2018/03/24223212/IMG_0485-347x405.jpg?resize=347%2C405 https://chainnews-archive.org/posts/990572140365/\n",
      "https://i2.wp.com/cdn.blockcast.it/wp-content/uploads/2018/03/20151853/lightcash_728x90.jpg?w=700 https://chainnews-archive.org/posts/990572140365/\n",
      "http://ow1wrzsju.bkt.clouddn.com/material/images/73f4068ea571545d0f534fce42a29e68.jpg https://chainnews-archive.org/posts/279405904342/\n",
      "http://ow1wrzsju.bkt.clouddn.com/material/images/3eadfa3ef227c6996d252e5c5aec3fed.jpg https://chainnews-archive.org/posts/156072287339/\n",
      "http://ow1wrzsju.bkt.clouddn.com/material/images/ecd7a7c591644342a99401aa0884fd40.jpg https://chainnews-archive.org/posts/521027391983/\n",
      "http://ow1wrzsju.bkt.clouddn.com/material/images/d53587bce95db7bbd8d2be1f99cbb61f.jpg https://chainnews-archive.org/posts/521027391983/\n",
      "https://cdn.8btc.com/wp-content/uploads/2018/09/201809070201577903.jpg https://chainnews-archive.org/posts/153815557066/\n",
      "https://cdn.8btc.com/wp-content/uploads/2018/09/201809070205592724.jpg https://chainnews-archive.org/posts/153815557066/\n",
      "http://ow1wrzsju.bkt.clouddn.com/material/images/b01c3485c2cd39aedc9004ffeea5b6b8.jpg https://chainnews-archive.org/posts/137636189115/\n",
      "http://ow1wrzsju.bkt.clouddn.com/material/images/bd66e039-fe7d-57cd-b696-9e45bf8590cf.jpg https://chainnews-archive.org/posts/551551140292/\n",
      "https://i2.wp.com/cdn.blockcast.it/wp-content/uploads/2018/03/20151853/lightcash_728x90.jpg?w=700 https://chainnews-archive.org/posts/484114100488/\n",
      "https://i1.wp.com/cdn.blockcast.it/wp-content/uploads/2018/03/24135802/IMG_0445-450x293.jpg?resize=560%2C364 https://chainnews-archive.org/posts/484114100488/\n",
      "https://i2.wp.com/cdn.blockcast.it/wp-content/uploads/2018/03/24135447/IMG_0261-503x293.jpg?resize=560%2C326 https://chainnews-archive.org/posts/484114100488/\n",
      "https://i2.wp.com/cdn.blockcast.it/wp-content/uploads/2018/03/24135952/IMG_0435-498x293.jpg?resize=560%2C330 https://chainnews-archive.org/posts/484114100488/\n",
      "https://i2.wp.com/cdn.blockcast.it/wp-content/uploads/2018/01/28213334/%E8%9E%A2%E5%B9%95%E5%BF%AB%E7%85%A7-2018-01-28-%E4%B8%8B%E5%8D%889.28.37.png?resize=619%2C405 https://chainnews-archive.org/posts/175986606216/\n",
      "http://7fvhfe.com1.z0.glb.clouddn.com%0A/wp-content/uploads/2015/08/725_aHR0cDovL2NvaW50ZWxlZ3JhcGguY29tL3N0b3JhZ2UvdXBsb2Fkcy92aWV3L2Q4NTNjOTNkN2NlNzNjZjUxZWE0MTY2YjI3OTdiZWVlLnBuZw.jpg https://chainnews-archive.org/posts/409409723498/\n",
      "http://ow1wrzsju.bkt.clouddn.com/material/images/b6af32cf04bad1b87bcf4410138843ae.jpg https://chainnews-archive.org/posts/409409723498/\n",
      "http://ow1wrzsju.bkt.clouddn.com/material/images/23acbdcc996f0be7a4f4caa5a929b36c.jpg https://chainnews-archive.org/posts/409409723498/\n",
      "http://ow1wrzsju.bkt.clouddn.com/material/images/2a1cbc01f72f0a28c68621e91feed0bd.jpg https://chainnews-archive.org/posts/409409723498/\n",
      "http://ow1wrzsju.bkt.clouddn.com/material/images/e870c50b7e2843070d0dff4c11afea43.jpg https://chainnews-archive.org/posts/409409723498/\n",
      "http://ow1wrzsju.bkt.clouddn.com/material/images/2f171e1137162d5968ca75768bc7119c.jpg https://chainnews-archive.org/posts/409409723498/\n",
      "https://i1.wp.com/cdn.blockcast.it/wp-content/uploads/2018/05/11115408%0A/Dalia-research-chart-480x293.png?resize=480%2C293 https://chainnews-archive.org/posts/590446690503/\n",
      "https://i2.wp.com/cdn.blockcast.it/wp-content/uploads/2018/05/11123051%0A/Dalia-Research-Chart2-520x264.png?resize=520%2C264 https://chainnews-archive.org/posts/590446690503/\n",
      "https://i2.wp.com/cdn.blockcast.it/wp-content/uploads/2018/05/11125305%0A/Dalia-Research-Chart3-475x293.png?resize=475%2C293 https://chainnews-archive.org/posts/590446690503/\n",
      "https://i2.wp.com/cdn.blockcast.it/wp-content/uploads/2018/05/11130311%0A/Dalia-Research-Chart4-445x293.png?resize=445%2C293 https://chainnews-archive.org/posts/590446690503/\n",
      "http://ow1wrzsju.bkt.clouddn.com/material/images/1818c55c30456b20c369dd060a50c9e3.jpg https://chainnews-archive.org/posts/203458526830/\n",
      "http://ow1wrzsju.bkt.clouddn.com/material/images/7bf1b913f4915b6e9e86e7514e8e8a79.jpg https://chainnews-archive.org/posts/887110249147/\n",
      "http://ow1wrzsju.bkt.clouddn.com/material/images/23acbdcc996f0be7a4f4caa5a929b36c.jpg https://chainnews-archive.org/posts/887110249147/\n",
      "http://ow1wrzsju.bkt.clouddn.com/material/images/2a1cbc01f72f0a28c68621e91feed0bd.jpg https://chainnews-archive.org/posts/887110249147/\n",
      "http://ow1wrzsju.bkt.clouddn.com/material/images/e870c50b7e2843070d0dff4c11afea43.jpg https://chainnews-archive.org/posts/887110249147/\n",
      "http://ow1wrzsju.bkt.clouddn.com/material/images/2f171e1137162d5968ca75768bc7119c.jpg https://chainnews-archive.org/posts/887110249147/\n",
      "http://ow1wrzsju.bkt.clouddn.com/material/images/68f68fe9088c035bfc45c35309fa7317.jpg https://chainnews-archive.org/posts/114617460036/\n",
      "https://i2.wp.com/cdn.blockcast.it/wp-content/uploads/2018/03/20151853/lightcash_728x90.jpg?w=700 https://chainnews-archive.org/posts/314818921165/\n",
      "http://ow1wrzsju.bkt.clouddn.com/material/images/145a01b28f2cd4c229d79f60f6f3bf24.jpg https://chainnews-archive.org/posts/114061331848/\n",
      "http://ow1wrzsju.bkt.clouddn.com/material/images/91fb3a2e472331d8f3906fe489a28f89.jpg https://chainnews-archive.org/posts/114061331848/\n",
      "http://ow1wrzsju.bkt.clouddn.com/material/images/519ae2494a6d3cd6e509fa6f678d24ee.jpg https://chainnews-archive.org/posts/114061331848/\n",
      "http://ow1wrzsju.bkt.clouddn.com/material/images/7f04e46631d7765627f5bb6d6610ca51.jpg https://chainnews-archive.org/posts/199371960417/\n",
      "http://ow1wrzsju.bkt.clouddn.com/material/images/af6223f2891e4398f54d94ad4dfc60f5.jpg https://chainnews-archive.org/posts/199371960417/\n",
      "//image.imspender.com/images/80f09e58d1723390f70feec464337dcc9491600b.jpg https://chainnews-archive.org/posts/743060238261/\n",
      "//image.imspender.com/images/45ee17c20d554928ddd98d4ed40119011e5596ab.jpg https://chainnews-archive.org/posts/743060238261/\n",
      "//image.imspender.com/images/d3e08dbe5ee33c7966a575f71b960f278ca400aa.jpg https://chainnews-archive.org/posts/743060238261/\n",
      "//image.imspender.com/images/3f91f3adfc70680a9886d42ae06df6f7d32e093a.jpg https://chainnews-archive.org/posts/743060238261/\n",
      "//image.imspender.com/images/af8d8f7c25925b3b9bac2b8c42fdc44ee8a164ae.jpg https://chainnews-archive.org/posts/743060238261/\n",
      "//image.imspender.com/images/dc3a9f2aa4823d36a96354efc0be18a796259846.jpg https://chainnews-archive.org/posts/743060238261/\n",
      "//image.imspender.com/images/ac84854107cae7df33bdc4370049ff4d587ca00f.jpg https://chainnews-archive.org/posts/743060238261/\n",
      "//image.imspender.com/images/80f09e58d1723390f70feec464337dcc9491600b.jpg https://chainnews-archive.org/posts/743060238261/\n",
      "https://realsatoshi.net/wp-content/uploads/2019/09/51.9.png https://chainnews-archive.org/posts/010023752086/\n",
      "http://ow1wrzsju.bkt.clouddn.com/material/images/490b5c079b521178460c2c52ae555e03.jpg https://chainnews-archive.org/posts/151144723068/\n",
      "http://ow1wrzsju.bkt.clouddn.com/material/images/0bea02610fa080e73173065120c6a436.jpg https://chainnews-archive.org/posts/151144723068/\n",
      "https://i1.wp.com/cdn.blockcast.it/wp-%0Acontent/uploads/2018/01/09115859/PetroDollar.jpeg?resize=700%2C324 https://chainnews-archive.org/posts/028566064548/\n",
      "http://ow1wrzsju.bkt.clouddn.com/material/images/a28a3e881cc8086ece4b65abb251431e.jpg https://chainnews-archive.org/posts/135938863081/\n",
      "http://ow1wrzsju.bkt.clouddn.com/material/images/4a48097866159f8f209990234d6af4c7.jpg https://chainnews-archive.org/posts/972065632578/\n",
      "http://ow1wrzsju.bkt.clouddn.com/material/images/23acbdcc996f0be7a4f4caa5a929b36c.jpg https://chainnews-archive.org/posts/972065632578/\n",
      "http://ow1wrzsju.bkt.clouddn.com/material/images/2a1cbc01f72f0a28c68621e91feed0bd.jpg https://chainnews-archive.org/posts/972065632578/\n",
      "http://ow1wrzsju.bkt.clouddn.com/material/images/e870c50b7e2843070d0dff4c11afea43.jpg https://chainnews-archive.org/posts/972065632578/\n",
      "http://ow1wrzsju.bkt.clouddn.com/material/images/4ec5a8ffba7c6db76c45654a40edf87a.jpg https://chainnews-archive.org/posts/924285839490/\n",
      "http://ow1wrzsju.bkt.clouddn.com/material/images/0af11dcf724fe2d3ea7aa5c6d3582f82.jpg https://chainnews-archive.org/posts/924285839490/\n",
      "http://ow1wrzsju.bkt.clouddn.com/material/images/f29951ee4696d469c2169c70a81ee028.jpg https://chainnews-archive.org/posts/924285839490/\n",
      "http://ow1wrzsju.bkt.clouddn.com/material/images/455028ee0ccc6c7a2b71a4d4a58cae7f.jpg https://chainnews-archive.org/posts/816236643244/\n",
      "//image.imspender.com/images/45e8fbe6b883ca263f27cc63d49ed4ac1cc58f68.jpg https://chainnews-archive.org/posts/954441467874/\n",
      "//image.imspender.com/images/48dc8444f9b98bfcea88e235871c8d256d980096.jpg https://chainnews-archive.org/posts/954441467874/\n",
      "//image.imspender.com/images/0ac5a15c7b57387aaf3767895cdf4fafa2e532b5.jpg https://chainnews-archive.org/posts/954441467874/\n",
      "http://ow1wrzsju.bkt.clouddn.com/material/images/7dd7678bce5a3a9641b9d5e98fbddd71.jpg https://chainnews-archive.org/posts/980566625065/\n",
      "http://ow1wrzsju.bkt.clouddn.com/material/images/b4d6757651703ad46fff2cb2521fc8c6.jpg https://chainnews-archive.org/posts/888468194890/\n",
      "http://ow1wrzsju.bkt.clouddn.com/material/images/c9b0adf1cdec0e4dfd4fd27e0d1946ba.jpg https://chainnews-archive.org/posts/888468194890/\n",
      "http://ow1wrzsju.bkt.clouddn.com/material/images/a78e7393d62f734da800e3e50ecd3b0a.jpg https://chainnews-archive.org/posts/888468194890/\n",
      "http://ow1wrzsju.bkt.clouddn.com/material/images/9127580f8810eaaadd2b9abfe9c4829a.jpg https://chainnews-archive.org/posts/888468194890/\n",
      "http://ow1wrzsju.bkt.clouddn.com/material/images/01d7ab35423e68da28242f2a01117e5c.jpg https://chainnews-archive.org/posts/888468194890/\n",
      "http://ow1wrzsju.bkt.clouddn.com/material/images/d3e85dc1c2e0c6dc209cb0f400caecd7.jpg https://chainnews-archive.org/posts/888468194890/\n",
      "http://ow1wrzsju.bkt.clouddn.com/material/images/41ac8719e43ac8df1cbee4b2f6ce7c66.jpg https://chainnews-archive.org/posts/888468194890/\n",
      "http://ow1wrzsju.bkt.clouddn.com/material/images/2fd6e0060be712c315012722895147e1.jpg https://chainnews-archive.org/posts/888468194890/\n",
      "http://ow1wrzsju.bkt.clouddn.com/material/images/b510cdfefc3f16ad5085bebb266e14d5.jpg https://chainnews-archive.org/posts/888468194890/\n",
      "http://ow1wrzsju.bkt.clouddn.com/material/images/5a92c030d33de48664ff9f93b4a27444.jpg https://chainnews-archive.org/posts/888468194890/\n",
      "http://ow1wrzsju.bkt.clouddn.com/material/images/c86d2cf7cc0ed8bb20620410e628e947.jpg https://chainnews-archive.org/posts/811289193148/\n",
      "https://i0.wp.com/cdn.blockcast.it/wp-content/uploads/2018/02/17143442/%E8%9E%A2%E5%B9%95%E5%BF%AB%E7%85%A7-2018-02-17-%E4%B8%8B%E5%8D%881.14.51.png?resize=520%2C283 https://chainnews-archive.org/posts/909673868224/\n",
      "https://i1.wp.com/cdn.blockcast.it/wp-content/uploads/2018/02/17143356/%E8%9E%A2%E5%B9%95%E5%BF%AB%E7%85%A7-2018-02-17-%E4%B8%8B%E5%8D%881.15.09.png?resize=520%2C218 https://chainnews-archive.org/posts/909673868224/\n",
      "http://ow1wrzsju.bkt.clouddn.com/material/images/0fefb0c0fc5cadb8c6fbc1c41e373a99.jpg https://chainnews-archive.org/posts/338367833799/\n",
      "http://ow1wrzsju.bkt.clouddn.com/material/images/2f171e1137162d5968ca75768bc7119c.jpg https://chainnews-archive.org/posts/338367833799/\n",
      "http://ow1wrzsju.bkt.clouddn.com/material/images/2739fafbbd69e3d773e25a2d301d2c24.jpg https://chainnews-archive.org/posts/010782131864/\n",
      "http://ow1wrzsju.bkt.clouddn.com/material/images/de0fdf6cc002fe2c56929d9cff578eae.jpg https://chainnews-archive.org/posts/010782131864/\n",
      "http://ow1wrzsju.bkt.clouddn.com/material/images/ce0a24028d7c653511b17e1097a3fc71.jpg https://chainnews-archive.org/posts/010782131864/\n",
      "http://ow1wrzsju.bkt.clouddn.com/material/images/ae32e9356ff67b7e5fd7e1142284898f.jpg https://chainnews-archive.org/posts/844615393958/\n",
      "http://ow1wrzsju.bkt.clouddn.com/material/images/5af224802e77660c51a9198165703418.jpg https://chainnews-archive.org/posts/439208473566/\n",
      "http://ow1wrzsju.bkt.clouddn.com/material/images/c3704f35e73e3ec0348000ad812ae701.jpg https://chainnews-archive.org/posts/439208473566/\n",
      "http://ow1wrzsju.bkt.clouddn.com/material/images/b01c3485c2cd39aedc9004ffeea5b6b8.jpg https://chainnews-archive.org/posts/245366577011/\n",
      "http://ow1wrzsju.bkt.clouddn.com/material/images/31e82fd7eb502996e2b80603a1ffc945.jpg https://chainnews-archive.org/posts/475368561248/\n",
      "http://ow1wrzsju.bkt.clouddn.com/material/images/1293fd3ecc655203e05502d94ce0ebba.jpg https://chainnews-archive.org/posts/475368561248/\n",
      "http://ow1wrzsju.bkt.clouddn.com/material/images/0b63a12086d1e7697a58e0e120dbc9f7.jpg https://chainnews-archive.org/posts/475368561248/\n",
      "https://i0.wp.com/cdn.blockcast.it/wp-content/uploads/2018/02/04134806/%E8%9E%A2%E5%B9%95%E5%BF%AB%E7%85%A7-2018-02-04-%E4%B8%8B%E5%8D%881.46.48.png?resize=700%2C394 https://chainnews-archive.org/posts/549926738579/\n",
      "http://file.gongxiangcj.com/%E5%85%B3%E4%BA%8E%E8%99%9A%E6%8B%9F%E8%B4%A7%E5%B8%81%E2%80%9C%E6%8C%96%E7%9F%BF%E2%80%9D%E4%BC%81%E4%B8%9A%E6%9C%89%E5%85%B3%E4%BA%8B%E5%AE%9C%E7%9A%84%E9%80%9A%E7%9F%A5%EF%BC%88%E6%95%B4%E6%B2%BB%E5%8A%9E%E5%87%BD%E3%80%942018%E3%80%952%E5%8F%B7%EF%BC%89%281%29_01.png https://chainnews-archive.org/posts/737633414276/\n",
      "http://file.gongxiangcj.com/%E5%85%B3%E4%BA%8E%E8%99%9A%E6%8B%9F%E8%B4%A7%E5%B8%81%E2%80%9C%E6%8C%96%E7%9F%BF%E2%80%9D%E4%BC%81%E4%B8%9A%E6%9C%89%E5%85%B3%E4%BA%8B%E5%AE%9C%E7%9A%84%E9%80%9A%E7%9F%A5%EF%BC%88%E6%95%B4%E6%B2%BB%E5%8A%9E%E5%87%BD%E3%80%942018%E3%80%952%E5%8F%B7%EF%BC%89%281%29_02.png https://chainnews-archive.org/posts/737633414276/\n",
      "http://ow1wrzsju.bkt.clouddn.com/material/images/902608d3ac458da0cb21f0b38aed6da9.jpg https://chainnews-archive.org/posts/194074675156/\n",
      "http://ow1wrzsju.bkt.clouddn.com/material/images/23acbdcc996f0be7a4f4caa5a929b36c.jpg https://chainnews-archive.org/posts/194074675156/\n",
      "http://ow1wrzsju.bkt.clouddn.com/material/images/2a1cbc01f72f0a28c68621e91feed0bd.jpg https://chainnews-archive.org/posts/194074675156/\n",
      "http://ow1wrzsju.bkt.clouddn.com/material/images/e870c50b7e2843070d0dff4c11afea43.jpg https://chainnews-archive.org/posts/194074675156/\n",
      "http://ow1wrzsju.bkt.clouddn.com/material/images/2f171e1137162d5968ca75768bc7119c.jpg https://chainnews-archive.org/posts/194074675156/\n",
      "http://ow1wrzsju.bkt.clouddn.com/material/images/2f171e1137162d5968ca75768bc7119c.jpg https://chainnews-archive.org/posts/777070197418/\n",
      "http://ow1wrzsju.bkt.clouddn.com/material/images/4db066ae0af5e1367339102d6230c091.jpg https://chainnews-archive.org/posts/471197249189/\n",
      "http://ow1wrzsju.bkt.clouddn.com/material/images/2c3eeef7efed2daed3841dd03b409a31.jpg https://chainnews-archive.org/posts/471197249189/\n",
      "http://ow1wrzsju.bkt.clouddn.com/material/images/cbd40fc68bb2e8f0790f7093ffdda75b.jpg https://chainnews-archive.org/posts/471197249189/\n",
      "http://ow1wrzsju.bkt.clouddn.com/material/images/5d681cfe308a366093ba75f4159d42a3.jpg https://chainnews-archive.org/posts/471197249189/\n",
      "http://ow1wrzsju.bkt.clouddn.com/material/images/26e33450e2f595466a87fe0592d2f93c.jpg https://chainnews-archive.org/posts/471197249189/\n",
      "http://ow1wrzsju.bkt.clouddn.com/material/images/90edf091401e8662d7e1eba49f2bd6c9.jpg https://chainnews-archive.org/posts/985937851032/\n",
      "http://ow1wrzsju.bkt.clouddn.com/material/images/09ae356071cc27cdf8db525f1a85bb90.jpg https://chainnews-archive.org/posts/149248637684/\n",
      "http://ow1wrzsju.bkt.clouddn.com/material/images/2ab8555bf9c0a55f1ea7b8a2dcc96948.jpg https://chainnews-archive.org/posts/149248637684/\n",
      "http://ow1wrzsju.bkt.clouddn.com/material/images/84eda05d2055dbd2f866fe78742ef9eb.jpg https://chainnews-archive.org/posts/149248637684/\n",
      "http://ow1wrzsju.bkt.clouddn.com/material/images/48b0483881d4a4ef4d2f68c2fb91074e.jpg https://chainnews-archive.org/posts/149248637684/\n",
      "http://ow1wrzsju.bkt.clouddn.com/material/images/3ebcc2c50bac604cc002d68cf53e16a4.jpg https://chainnews-archive.org/posts/149248637684/\n",
      "http://ow1wrzsju.bkt.clouddn.com/material/images/0acee0c7457b67965b9b329433f88a9f.jpg https://chainnews-archive.org/posts/149248637684/\n",
      "http://ow1wrzsju.bkt.clouddn.com/material/images/ebee282370ac5e34b60fa4e2ba2b266c.jpg https://chainnews-archive.org/posts/372290724676/\n",
      "https://i2.wp.com/cdn.blockcast.it/wp-content/uploads/2018/03/20151853/lightcash_728x90.jpg?w=700 https://chainnews-archive.org/posts/036664244539/\n",
      "https://i0.wp.com/cdn.blockcast.it/wp-content/uploads/2018/03/22110745/unnamed__2_.0-608x405.jpg?resize=608%2C405 https://chainnews-archive.org/posts/036664244539/\n",
      "http://ow1wrzsju.bkt.clouddn.com/material/images/a28a3e881cc8086ece4b65abb251431e.jpg https://chainnews-archive.org/posts/971420667729/\n",
      "file:///C:/Users/Administrator/AppData/Local/YNote/data/zkhad1991@163.com/9378519d0c1d48bcb28041b69e4e523d%0A/digital-asset-patent-1-728x430.jpg.jpeg https://chainnews-archive.org/posts/563201957122/\n",
      "http://ow1wrzsju.bkt.clouddn.com/material/images/a0a4fcff8b11a26046a76a9e744137c9.jpg https://chainnews-archive.org/posts/408772907010/\n"
     ]
    },
    {
     "data": {
      "text/plain": [
       "0       None\n",
       "1       None\n",
       "2       None\n",
       "3       None\n",
       "4       None\n",
       "        ... \n",
       "2002    None\n",
       "2003    None\n",
       "2004    None\n",
       "2005    None\n",
       "2006    None\n",
       "Length: 2007, dtype: object"
      ]
     },
     "execution_count": 50,
     "metadata": {},
     "output_type": "execute_result"
    }
   ],
   "source": [
    "def process(row):\n",
    "    demo = row['content']\n",
    "    try:\n",
    "        demo = bs4.BeautifulSoup(demo, 'lxml')\n",
    "    except:\n",
    "        return\n",
    "    for src in demo.select('img'):\n",
    "        src = src['src']\n",
    "        if not src.startswith('https://img.chainnews.com'):\n",
    "            if not src.startswith('data:image'):\n",
    "                print(src, row['article-page-href'])\n",
    "df.apply(process, axis=1)"
   ]
  },
  {
   "cell_type": "markdown",
   "id": "2528580e-845c-4099-b6f8-f9d4f3c2a4ff",
   "metadata": {},
   "source": [
    "可访问的图片较少，似乎可以不做。"
   ]
  }
 ],
 "metadata": {
  "kernelspec": {
   "display_name": "Python 3 (ipykernel)",
   "language": "python",
   "name": "python3"
  },
  "language_info": {
   "codemirror_mode": {
    "name": "ipython",
    "version": 3
   },
   "file_extension": ".py",
   "mimetype": "text/x-python",
   "name": "python",
   "nbconvert_exporter": "python",
   "pygments_lexer": "ipython3",
   "version": "3.9.6"
  }
 },
 "nbformat": 4,
 "nbformat_minor": 5
}
